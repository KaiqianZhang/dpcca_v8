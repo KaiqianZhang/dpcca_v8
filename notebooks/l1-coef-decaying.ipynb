{
 "cells": [
  {
   "cell_type": "code",
   "execution_count": 1,
   "metadata": {},
   "outputs": [
    {
     "name": "stdout",
     "output_type": "stream",
     "text": [
      "/Users/gwg/dmcm\n"
     ]
    }
   ],
   "source": [
    "%cd /Users/gwg/dmcm\n",
    "%matplotlib inline"
   ]
  },
  {
   "cell_type": "code",
   "execution_count": 3,
   "metadata": {},
   "outputs": [],
   "source": [
    "import matplotlib.pyplot as plt\n",
    "plt.rc('font', family='Arial')\n",
    "plt.rc('font', size=20)\n",
    "import numpy as np\n",
    "import torch\n",
    "from   models import DPCCA\n",
    "from   data import GTExV8Config\n",
    "\n",
    "cfg = GTExV8Config()"
   ]
  },
  {
   "cell_type": "code",
   "execution_count": 39,
   "metadata": {},
   "outputs": [],
   "source": [
    "def get_l1_norm_of_columns(l1_coef):\n",
    "    directory = '/Users/gwg/dmcm/experiments/20190205_decaying_l1/'\\\n",
    "                'gtexv8_mode-dpcca_batch_size-128_seed-0_latent_dim-20_lr-0.0001_l1_coef-%s_em_iters-1_clip-1' % l1_coef\n",
    "    model_path = directory + '/model.pt'\n",
    "    state = torch.load(model_path, map_location={'cuda:0': 'cpu'})\n",
    "    model = DPCCA(cfg, latent_dim=20)\n",
    "    model.load_state_dict(state)\n",
    "\n",
    "    with torch.no_grad():\n",
    "        l1_norms = []\n",
    "        for param in model.pcca.parameters_('y2'):\n",
    "            for col in param.t():\n",
    "                l1_norms.append(torch.norm(col, 1).item())\n",
    "    \n",
    "    return l1_norms"
   ]
  },
  {
   "cell_type": "code",
   "execution_count": 43,
   "metadata": {},
   "outputs": [
    {
     "data": {
      "text/plain": [
       "<matplotlib.legend.Legend at 0x1a23cd1a90>"
      ]
     },
     "execution_count": 43,
     "metadata": {},
     "output_type": "execute_result"
    },
    {
     "data": {
      "image/png": "[encoded data removed]",
      "text/plain": [
       "<Figure size 432x288 with 1 Axes>"
      ]
     },
     "metadata": {
      "needs_background": "light"
     },
     "output_type": "display_data"
    }
   ],
   "source": [
    "xs  = [1.0]#[0.5, 1.0, 1.5]\n",
    "ys1 = []\n",
    "ys2 = []\n",
    "ys3 = []\n",
    "\n",
    "for x in xs:\n",
    "    l1_norms = get_l1_norm_of_columns(x)\n",
    "    plt.scatter(list(range(len(l1_norms))), l1_norms, label=x)\n",
    "# plt.ylim(-0.0025, 0.005)\n",
    "plt.legend()"
   ]
  },
  {
   "cell_type": "code",
   "execution_count": null,
   "metadata": {},
   "outputs": [],
   "source": []
  },
  {
   "cell_type": "code",
   "execution_count": null,
   "metadata": {},
   "outputs": [],
   "source": []
  }
 ],
 "metadata": {
  "kernelspec": {
   "display_name": "Python 3",
   "language": "python",
   "name": "python3"
  },
  "language_info": {
   "codemirror_mode": {
    "name": "ipython",
    "version": 3
   },
   "file_extension": ".py",
   "mimetype": "text/x-python",
   "name": "python",
   "nbconvert_exporter": "python",
   "pygments_lexer": "ipython3",
   "version": "3.7.1"
  }
 },
 "nbformat": 4,
 "nbformat_minor": 2
}
