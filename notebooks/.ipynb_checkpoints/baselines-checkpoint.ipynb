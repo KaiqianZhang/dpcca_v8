{
 "cells": [
  {
   "cell_type": "code",
   "execution_count": 1,
   "metadata": {},
   "outputs": [
    {
     "name": "stdout",
     "output_type": "stream",
     "text": [
      "/Users/gwg/dmcm\n"
     ]
    }
   ],
   "source": [
    "%cd /Users/gwg/dmcm"
   ]
  },
  {
   "cell_type": "code",
   "execution_count": 2,
   "metadata": {},
   "outputs": [],
   "source": [
    "import numpy as np\n",
    "import torch\n",
    "import random\n",
    "import matplotlib\n",
    "matplotlib.use('agg')\n",
    "import matplotlib.pyplot as plt\n",
    "from   PIL import Image\n",
    "\n",
    "from   data import GTExV8Config, GTExV8Dataset, loader\n",
    "from   models import DCGANAE128, DPCCA"
   ]
  },
  {
   "cell_type": "code",
   "execution_count": 3,
   "metadata": {},
   "outputs": [],
   "source": [
    "%matplotlib inline"
   ]
  },
  {
   "cell_type": "code",
   "execution_count": 4,
   "metadata": {},
   "outputs": [],
   "source": [
    "cfg = GTExV8Config()\n",
    "\n",
    "directory = '/Users/gwg/dmcm/experiments/20190125_small_lat_dim/'\\\n",
    "            'gtexv8_mode-dpcca_batch_size-128_seed-0_latent_dim-10_lr-0.0001_l1_coef-0.0_private_z-1_clip-1.0'"
   ]
  },
  {
   "cell_type": "code",
   "execution_count": 7,
   "metadata": {},
   "outputs": [
    {
     "name": "stdout",
     "output_type": "stream",
     "text": [
      "128\n"
     ]
    }
   ],
   "source": [
    "print(cfg.IMG_SIZE)\n",
    "train_loader, test_loader = loader.get_data_loaders(cfg,\n",
    "                                                    batch_size=128,\n",
    "                                                    num_workers=1,\n",
    "                                                    pin_memory=False,\n",
    "                                                    cv_pct=0.2)"
   ]
  },
  {
   "cell_type": "code",
   "execution_count": 8,
   "metadata": {},
   "outputs": [],
   "source": [
    "dataset = train_loader.dataset\n",
    "\n",
    "from sklearn import preprocessing\n",
    "\n",
    "le = preprocessing.LabelEncoder()\n",
    "all_tissues = dataset.tissues_df.values.squeeze()\n",
    "le.fit(all_tissues)\n",
    "tissue_nums = le.transform(all_tissues)"
   ]
  },
  {
   "cell_type": "code",
   "execution_count": 9,
   "metadata": {},
   "outputs": [],
   "source": [
    "inds = test_loader.sampler.indices\n",
    "n    = len(inds)\n",
    "\n",
    "X1 = torch.Tensor(n, cfg.N_CHANNELS, cfg.IMG_SIZE, cfg.IMG_SIZE)\n",
    "X2 = torch.Tensor(n, cfg.N_GENES)\n",
    "labels = torch.Tensor(n)\n",
    "tissues = []\n",
    "\n",
    "for j, i in enumerate(inds):\n",
    "    x1, x2 = dataset[i]\n",
    "    X1[j] = x1\n",
    "    X2[j] = x2\n",
    "    labels[j] = float(tissue_nums[i])\n",
    "    tissues.append(all_tissues[i])\n",
    "\n",
    "tissues = np.array(tissues)"
   ]
  },
  {
   "cell_type": "code",
   "execution_count": 10,
   "metadata": {},
   "outputs": [
    {
     "name": "stdout",
     "output_type": "stream",
     "text": [
      "torch.Size([2358, 3, 128, 128])\n",
      "torch.Size([2358, 39832])\n",
      "torch.Size([2358, 30])\n"
     ]
    }
   ],
   "source": [
    "state = torch.load(directory + '/model.pt', map_location={'cuda:0': 'cpu'})\n",
    "model = DPCCA(cfg, latent_dim=10)\n",
    "model.load_state_dict(state)\n",
    "\n",
    "Zs = model.estimate_z_given_x([X1, X2], threshold=None)\n",
    "print(X1.shape)\n",
    "print(X2.shape)\n",
    "print(Zs.shape)"
   ]
  },
  {
   "cell_type": "code",
   "execution_count": null,
   "metadata": {},
   "outputs": [
    {
     "name": "stdout",
     "output_type": "stream",
     "text": [
      "torch.Size([2358, 2])\n",
      "> <ipython-input-22-ee9d913bc6d3>(17)<module>()\n",
      "-> for img, data in zip(X1.numpy()[inds], Zs_pca[inds]):\n",
      "(Pdb) Zs_pca.shape\n",
      "torch.Size([2358, 2])\n",
      "(Pdb) Zs_pca[inds]\n",
      "*** TypeError: can't convert np.ndarray of type numpy.bool_. The only supported types are: double, float, float16, int64, int32, and uint8.\n",
      "(Pdb) inds\n",
      "array([False, False, False, ..., False, False, False])\n",
      "(Pdb) Zs_pca.t()\n",
      "tensor([[-2.5383e-01, -1.4564e-01,  3.3524e-02,  ..., -2.4768e-01,\n",
      "         -2.3735e-01,  5.2719e-02],\n",
      "        [-1.0599e-01,  7.3442e-02, -7.1007e-02,  ...,  2.0200e-02,\n",
      "         -1.8294e-02, -1.7293e-02]])\n",
      "(Pdb) Zs_pca.t()[inds]\n",
      "*** TypeError: can't convert np.ndarray of type numpy.bool_. The only supported types are: double, float, float16, int64, int32, and uint8.\n",
      "(Pdb) type(Zs_pca)\n",
      "<class 'torch.Tensor'>\n",
      "(Pdb) type(inds)\n",
      "<class 'numpy.ndarray'>\n"
     ]
    }
   ],
   "source": [
    "Zs = Zs.detach()\n",
    "\n",
    "from sklearn.decomposition import PCA\n",
    "\n",
    "decompressor = PCA(n_components=2)\n",
    "Zs_pca = Zs[:, :2]\n",
    "print(Zs_pca.shape)\n",
    "fig, ax = plt.subplots(figsize=(20, 20))\n",
    "\n",
    "from matplotlib import cm\n",
    "cmap = cm.get_cmap('jet')\n",
    "\n",
    "for i in np.unique(labels):\n",
    "    inds = labels.numpy() == i\n",
    "    color = cmap(i)\n",
    "    import pdb; pdb.set_trace()\n",
    "    for img, data in zip(X1.numpy()[inds], Zs_pca[inds]):\n",
    "        print(color)\n",
    "#         plt.scatter(data[0], data[1], c=[color])"
   ]
  },
  {
   "cell_type": "code",
   "execution_count": null,
   "metadata": {},
   "outputs": [],
   "source": [
    "# # ne1 = model.image_net.encode(X1)\n",
    "# ne2 = model.genes_net.encode(X2).detach().numpy()\n",
    "\n",
    "# # ne2_pca = decompressor.fit_transform(ne2)\n",
    "# fig, ax = plt.subplots(figsize=(20, 20))\n",
    "\n",
    "# for i in np.unique(labels):\n",
    "#     inds = labels.numpy() == i\n",
    "#     data = ne2[inds]\n",
    "#     ax.scatter(data[:, 6], data[:, 4], label=i)"
   ]
  },
  {
   "cell_type": "code",
   "execution_count": null,
   "metadata": {},
   "outputs": [],
   "source": []
  }
 ],
 "metadata": {
  "kernelspec": {
   "display_name": "Python 3",
   "language": "python",
   "name": "python3"
  }
 },
 "nbformat": 4,
 "nbformat_minor": 2
}
