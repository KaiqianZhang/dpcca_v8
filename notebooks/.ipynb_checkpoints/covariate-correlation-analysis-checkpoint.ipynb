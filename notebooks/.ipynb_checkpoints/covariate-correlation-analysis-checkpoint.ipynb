{
 "cells": [
  {
   "cell_type": "code",
   "execution_count": 1,
   "metadata": {},
   "outputs": [
    {
     "name": "stdout",
     "output_type": "stream",
     "text": [
      "/Users/gwg/dmcm\n"
     ]
    }
   ],
   "source": [
    "%cd /Users/gwg/dmcm\n",
    "%matplotlib inline"
   ]
  },
  {
   "cell_type": "code",
   "execution_count": 2,
   "metadata": {},
   "outputs": [],
   "source": [
    "import numpy as np\n",
    "import pandas as pd\n",
    "import torch\n",
    "import matplotlib.pyplot as plt\n",
    "from   data import GTExV8Config, GTExV8Dataset, loader\n",
    "from   models import DPCCA"
   ]
  },
  {
   "cell_type": "code",
   "execution_count": 3,
   "metadata": {},
   "outputs": [],
   "source": [
    "cfg        = GTExV8Config()\n",
    "cfg.IMG_EMBED_DIM = 100\n",
    "cfg.GENE_EMBED_DIM = 100\n",
    "latent_dim = 10\n",
    "directory  = '/Users/gwg/dmcm/experiments/20190131_big_sweep/'\\\n",
    "             'gtexv8_mode-dpcca_batch_size-128_seed-0_latent_dim-%'\\\n",
    "             's_lr-0.0001_l1_coef-0.5_em_iters-1_clip-1' % latent_dim"
   ]
  },
  {
   "cell_type": "code",
   "execution_count": 4,
   "metadata": {},
   "outputs": [],
   "source": [
    "df = pd.read_csv('data/gtexv8/brian_names.tsv', sep='\\t')\n",
    "BRIANS_NAMES = df.columns.values[1:]"
   ]
  },
  {
   "cell_type": "code",
   "execution_count": 5,
   "metadata": {},
   "outputs": [],
   "source": [
    "train_loader, test_loader = loader.get_data_loaders(cfg,\n",
    "                                                    batch_size=128,\n",
    "                                                    num_workers=1,\n",
    "                                                    pin_memory=False,\n",
    "                                                    directory=directory)\n",
    "dataset = train_loader.dataset"
   ]
  },
  {
   "cell_type": "code",
   "execution_count": 6,
   "metadata": {},
   "outputs": [],
   "source": [
    "from sklearn import preprocessing\n",
    "\n",
    "le = preprocessing.LabelEncoder()\n",
    "all_tissues = dataset.tissues_df.values.squeeze()\n",
    "le.fit(all_tissues)\n",
    "tissue_nums = le.transform(all_tissues)\n",
    "\n",
    "BRIAN_TISS_NAMES = [\n",
    "    'Adipose_Subcutaneous',\n",
    "    'Adipose_Visceral_Omentum',\n",
    "    'Adrenal_Gland',\n",
    "    'Artery_Aorta',\n",
    "    'Artery_Coronary',\n",
    "    'Artery_Tibial',\n",
    "    'Brain_Amygdala',\n",
    "    'Brain_Anterior_cingulate_cortex_BA24',\n",
    "    'Brain_Caudate_basal_ganglia',\n",
    "    'Brain_Cerebellar_Hemisphere',\n",
    "    'Brain_Cerebellum',\n",
    "    'Brain_Cortex',\n",
    "    'Brain_Frontal_Cortex_BA9',\n",
    "    'Brain_Hippocampus',\n",
    "    'Brain_Hypothalamus',\n",
    "    'Brain_Nucleus_accumbens_basal_ganglia',\n",
    "    'Brain_Putamen_basal_ganglia',\n",
    "    'Brain_Spinal_cord_cervical_c-1',\n",
    "    'Brain_Substantia_nigra',\n",
    "    'Breast_Mammary_Tissue',\n",
    "    'Cells_Cultured_fibroblasts',\n",
    "    'Cells_EBV-transformed_lymphocytes',\n",
    "    'Colon_Sigmoid',\n",
    "    'Colon_Transverse',\n",
    "    'Esophagus_Gastroesophageal_Junction',\n",
    "    'Esophagus_Mucosa',\n",
    "    'Esophagus_Muscularis',\n",
    "    'Heart_Atrial_Appendage',\n",
    "    'Heart_Left_Ventricle',\n",
    "    'Kidney_Cortex',\n",
    "    'Liver',\n",
    "    'Lung',\n",
    "    'Minor_Salivary_Gland',\n",
    "    'Muscle_Skeletal',\n",
    "    'Nerve_Tibial',\n",
    "    'Ovary',\n",
    "    'Pancreas',\n",
    "    'Pituitary',\n",
    "    'Prostate',\n",
    "    'Skin_Not_Sun_Exposed_Suprapubic',\n",
    "    'Skin_Sun_Exposed_Lower_leg',\n",
    "    'Small_Intestine_Terminal_Ileum',\n",
    "    'Spleen',\n",
    "    'Stomach',\n",
    "    'Testis',\n",
    "    'Thyroid',\n",
    "    'Uterus',\n",
    "    'Vagina',\n",
    "    'Whole_Blood'\n",
    "]\n",
    "\n",
    "def convert_tiss_to_brian(tiss):\n",
    "    parts = tiss.split(' - ')\n",
    "    tiss = '_'.join(parts)\n",
    "    tiss = tiss.replace(' ', '_')\n",
    "    tiss = tiss.replace(')', '').replace('(', '')\n",
    "    return tiss\n",
    "\n",
    "# Sanity check that our function works as expected.\n",
    "for tiss in np.unique(all_tissues):\n",
    "    assert convert_tiss_to_brian(tiss) in BRIAN_TISS_NAMES"
   ]
  },
  {
   "cell_type": "code",
   "execution_count": 7,
   "metadata": {},
   "outputs": [],
   "source": [
    "n  = len(dataset)\n",
    "X1 = torch.Tensor(n, cfg.N_CHANNELS, cfg.IMG_SIZE, cfg.IMG_SIZE)\n",
    "X2 = torch.Tensor(n, cfg.N_GENES)\n",
    "\n",
    "gtex_names = []\n",
    "for i in range(n):\n",
    "    x1, x2 = dataset[i]\n",
    "    X1[i] = x1\n",
    "    X2[i] = x2\n",
    "    full_name = dataset.samples[i]\n",
    "    parts = full_name.split('-')\n",
    "    gtex_name = '-'.join(parts[:2])\n",
    "    assert gtex_name in BRIANS_NAMES\n",
    "    gtex_names.append(gtex_name)"
   ]
  },
  {
   "cell_type": "code",
   "execution_count": 8,
   "metadata": {},
   "outputs": [],
   "source": [
    "state = torch.load(directory + '/model.pt', map_location={'cuda:0': 'cpu'})\n",
    "model = DPCCA(cfg, latent_dim=10, use_gene_net=True)\n",
    "model.load_state_dict(state)"
   ]
  },
  {
   "cell_type": "code",
   "execution_count": 19,
   "metadata": {},
   "outputs": [
    {
     "name": "stdout",
     "output_type": "stream",
     "text": [
      "(487, 30)\n",
      "(487,)\n"
     ]
    }
   ],
   "source": [
    "for i, tiss in enumerate(np.unique(all_tissues)):\n",
    "\n",
    "    inds  = np.array(dataset.labels) == tiss\n",
    "    X1_   = torch.Tensor(X1.detach().numpy()[inds])\n",
    "    X2_   = torch.Tensor(X2.detach().numpy()[inds])\n",
    "    labs  = tissue_nums[inds]\n",
    "    names = np.array(gtex_names)[inds]\n",
    "    Zs    = model.estimate_z_given_x([X1_, X2_], threshold=None).detach().numpy()\n",
    "    print(Zs.shape)\n",
    "    \n",
    "    # Verify that Brians names are already sorted.\n",
    "    assert (np.array(sorted(BRIANS_NAMES)) == BRIANS_NAMES).all()\n",
    "\n",
    "    inds         = np.array(names).argsort()\n",
    "    names_sorted = np.flip(names[inds[::-1]])\n",
    "    Zs_sorted    = np.flip(Zs[inds[::-1], :])\n",
    "    \n",
    "    # This verifies that our columns are in the same order as Brian's,\n",
    "    # ignoring instances where Brian has a column and we do not.\n",
    "    curr_idx = -1\n",
    "    for name in names_sorted:\n",
    "        idx = BRIANS_NAMES.tolist().index(name)\n",
    "        assert idx > curr_idx\n",
    "        curr_idx = idx\n",
    "    \n",
    "    df = pd.DataFrame(columns=names_sorted, data=Zs_sorted.T)\n",
    "    df.index.name = 'gene_id'\n",
    "    \n",
    "    tiss  = convert_tiss_to_brian(tiss)\n",
    "    fname = 'analysis/expression_matrix_%s_latent_dim-%s.txt' % (tiss, latent_dim)\n",
    "    print(i, fname)\n",
    "    df.to_csv(fname, sep='\\t')"
   ]
  },
  {
   "cell_type": "code",
   "execution_count": null,
   "metadata": {},
   "outputs": [],
   "source": []
  }
 ],
 "metadata": {
  "kernelspec": {
   "display_name": "Python 3",
   "language": "python",
   "name": "python3"
  },
  "language_info": {
   "codemirror_mode": {
    "name": "ipython",
    "version": 3
   },
   "file_extension": ".py",
   "mimetype": "text/x-python",
   "name": "python",
   "nbconvert_exporter": "python",
   "pygments_lexer": "ipython3",
   "version": "3.7.1"
  }
 },
 "nbformat": 4,
 "nbformat_minor": 2
}
