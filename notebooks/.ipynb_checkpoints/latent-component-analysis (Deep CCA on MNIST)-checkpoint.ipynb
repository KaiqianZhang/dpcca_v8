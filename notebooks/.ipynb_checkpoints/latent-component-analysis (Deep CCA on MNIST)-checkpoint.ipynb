{
 "cells": [
  {
   "cell_type": "code",
   "execution_count": 7,
   "metadata": {},
   "outputs": [
    {
     "name": "stdout",
     "output_type": "stream",
     "text": [
      "/Users/gwg/dmcm\n"
     ]
    }
   ],
   "source": [
    "%cd /Users/gwg/dmcm\n",
    "%matplotlib inline"
   ]
  },
  {
   "cell_type": "code",
   "execution_count": 8,
   "metadata": {},
   "outputs": [],
   "source": [
    "import numpy as np\n",
    "import torch\n",
    "import random\n",
    "import matplotlib\n",
    "import matplotlib.pyplot as plt\n",
    "from   PIL import Image\n",
    "\n",
    "from   data import MnistConfig, MnistDataset, loader\n",
    "from   models import LeNet5AE, DPCCA"
   ]
  },
  {
   "cell_type": "code",
   "execution_count": 9,
   "metadata": {},
   "outputs": [],
   "source": [
    "cfg = MnistConfig()"
   ]
  },
  {
   "cell_type": "code",
   "execution_count": 29,
   "metadata": {},
   "outputs": [
    {
     "name": "stdout",
     "output_type": "stream",
     "text": [
      "/Users/gwg/dmcm/experiments/20190115_mnist_noisy_sparse/mnist_mode-dpcca_batch_size-128_seed-0_latent_dim-2_lr-0.0001_l1_coef-100.0_private_z-1/model.pt\n"
     ]
    }
   ],
   "source": [
    "path = '/Users/gwg/dmcm/experiments/20190115_mnist_noisy_sparse/'\\\n",
    "       'mnist_mode-dpcca_batch_size-128_seed-0_latent_dim-2_lr-0.0001_l1_coef-100.0_private_z-1/'\\\n",
    "       'model.pt'\n",
    "\n",
    "print(path)\n",
    "    \n",
    "state = torch.load(path, map_location={'cuda:0': 'cpu'})\n",
    "model = DPCCA(cfg, latent_dim=2, private_z=True, differentiable=True)\n",
    "model.load_state_dict(state)"
   ]
  },
  {
   "cell_type": "code",
   "execution_count": 30,
   "metadata": {},
   "outputs": [],
   "source": [
    "train_loader, test_loader = loader.get_data_loaders(cfg,\n",
    "                                                    batch_size=128,\n",
    "                                                    num_workers=1,\n",
    "                                                    pin_memory=False,\n",
    "                                                    cv_pct=0.1)\n",
    "dataset = MnistDataset(cfg)"
   ]
  },
  {
   "cell_type": "code",
   "execution_count": 31,
   "metadata": {},
   "outputs": [],
   "source": [
    "inds = test_loader.sampler.indices\n",
    "n    = len(inds)\n",
    "\n",
    "X1 = torch.Tensor(n, cfg.N_CHANNELS, cfg.IMG_SIZE, cfg.IMG_SIZE)\n",
    "X2 = torch.Tensor(n, cfg.N_GENES)\n",
    "labels = torch.Tensor(n)\n",
    "\n",
    "for j, i in enumerate(inds):\n",
    "    x1, x2 = dataset[i]\n",
    "    X1[j] = x1\n",
    "    X2[j] = x2\n",
    "    labels[j] = float(dataset.labels[i])"
   ]
  },
  {
   "cell_type": "code",
   "execution_count": 32,
   "metadata": {},
   "outputs": [
    {
     "name": "stdout",
     "output_type": "stream",
     "text": [
      "torch.Size([1863, 1, 28, 28])\n",
      "torch.Size([1863, 100])\n",
      "torch.Size([1863, 6])\n"
     ]
    }
   ],
   "source": [
    "Zs_cached = model.estimate_z_given_x([X1, X2])\n",
    "print(X1.shape)\n",
    "print(X2.shape)\n",
    "print(Zs_cached.shape)"
   ]
  },
  {
   "cell_type": "code",
   "execution_count": 33,
   "metadata": {},
   "outputs": [
    {
     "data": {
      "text/plain": [
       "torch.Size([1863, 3])"
      ]
     },
     "execution_count": 33,
     "metadata": {},
     "output_type": "execute_result"
    }
   ],
   "source": [
    "Zs_cached = Zs_cached.detach()\n",
    "Zs = Zs_cached[:, :3]\n",
    "Zs.shape"
   ]
  },
  {
   "cell_type": "code",
   "execution_count": 34,
   "metadata": {},
   "outputs": [
    {
     "data": {
      "text/plain": [
       "<matplotlib.legend.Legend at 0x1a38413c88>"
      ]
     },
     "execution_count": 34,
     "metadata": {},
     "output_type": "execute_result"
    },
    {
     "data": {
      "image/png": "[encoded data removed]",
      "text/plain": [
       "<Figure size 1440x720 with 1 Axes>"
      ]
     },
     "metadata": {
      "needs_background": "light"
     },
     "output_type": "display_data"
    }
   ],
   "source": [
    "fig, ax = plt.subplots()\n",
    "fig.set_size_inches(20, 10)\n",
    "\n",
    "factor_idx    = 0\n",
    "inds          = np.argsort(labels)\n",
    "labels_sorted = labels[inds].numpy()\n",
    "Zs_sorted     = Zs.numpy()[inds]\n",
    "zk            = Zs_sorted[:, factor_idx]\n",
    "\n",
    "cm = plt.cm.get_cmap('tab20c', len(np.unique(labels)))\n",
    "colors = cm.colors\n",
    "np.random.shuffle(colors)  # inplace\n",
    "\n",
    "curr_label = labels_sorted[0]\n",
    "j = 0\n",
    "curr_color = colors[j]\n",
    "\n",
    "labels_added = []\n",
    "\n",
    "for i, z in enumerate(Zs_sorted):\n",
    "    if curr_label != labels_sorted[i]:\n",
    "        curr_label = labels_sorted[i]\n",
    "        j += 1\n",
    "        curr_color = cm.colors[j]\n",
    "\n",
    "    if curr_label not in labels_added:\n",
    "        labels_added.append(curr_label)\n",
    "        plt.bar(i, zk[i], color=curr_color, label=curr_label)\n",
    "    else:\n",
    "        plt.bar(i, zk[i], color=curr_color)\n",
    "    \n",
    "plt.title('Factor %s' % factor_idx)\n",
    "plt.legend(ncol=4, loc='lower center')"
   ]
  },
  {
   "cell_type": "code",
   "execution_count": null,
   "metadata": {},
   "outputs": [],
   "source": []
  },
  {
   "cell_type": "code",
   "execution_count": null,
   "metadata": {},
   "outputs": [],
   "source": []
  }
 ],
 "metadata": {
  "kernelspec": {
   "display_name": "Python 3",
   "language": "python",
   "name": "python3"
  },
  "language_info": {
   "codemirror_mode": {
    "name": "ipython",
    "version": 3
   },
   "file_extension": ".py",
   "mimetype": "text/x-python",
   "name": "python",
   "nbconvert_exporter": "python",
   "pygments_lexer": "ipython3",
   "version": "3.7.1"
  }
 },
 "nbformat": 4,
 "nbformat_minor": 2
}
