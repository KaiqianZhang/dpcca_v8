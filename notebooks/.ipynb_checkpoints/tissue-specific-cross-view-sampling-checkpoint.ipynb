{
 "cells": [
  {
   "cell_type": "code",
   "execution_count": 2,
   "metadata": {},
   "outputs": [
    {
     "name": "stdout",
     "output_type": "stream",
     "text": [
      "/Users/gwg/dmcm\n"
     ]
    }
   ],
   "source": [
    "%cd /Users/gwg/dmcm\n",
    "%matplotlib inline"
   ]
  },
  {
   "cell_type": "code",
   "execution_count": 3,
   "metadata": {},
   "outputs": [],
   "source": [
    "import numpy as np\n",
    "import torch\n",
    "import random\n",
    "import matplotlib\n",
    "import matplotlib.pyplot as plt\n",
    "from   PIL import Image\n",
    "\n",
    "from   data import MnistConfig, MnistDataset, loader\n",
    "from   models import LeNet5AE, DPCCA"
   ]
  },
  {
   "cell_type": "code",
   "execution_count": 4,
   "metadata": {},
   "outputs": [],
   "source": [
    "cfg = MnistConfig()"
   ]
  },
  {
   "cell_type": "code",
   "execution_count": 5,
   "metadata": {},
   "outputs": [
    {
     "name": "stdout",
     "output_type": "stream",
     "text": [
      "/Users/gwg/dmcm/experiments/20190110_mnist_viz/mnist_mode-dpcca_batch_size-128_seed-0_latent_dim-2_lr-0.0001_l1_coef-0.0_private_z-1/model.pt\n"
     ]
    }
   ],
   "source": [
    "path = '/Users/gwg/dmcm/experiments/20190110_mnist_viz/'\\\n",
    "       'mnist_mode-dpcca_batch_size-128_seed-0_latent_dim-2_lr-0.0001_l1_coef-0.0_private_z-1/model.pt'\n",
    "\n",
    "print(path)\n",
    "    \n",
    "state = torch.load(path, map_location={'cuda:0': 'cpu'})\n",
    "model = DPCCA(cfg, latent_dim=2, use_gene_net=True)\n",
    "model.load_state_dict(state)"
   ]
  },
  {
   "cell_type": "code",
   "execution_count": 5,
   "metadata": {},
   "outputs": [],
   "source": [
    "train_loader, test_loader = loader.get_data_loaders(cfg,\n",
    "                                                    batch_size=128,\n",
    "                                                    num_workers=1,\n",
    "                                                    pin_memory=False,\n",
    "                                                    cv_pct=0.1)\n",
    "dataset = train_loader.dataset"
   ]
  },
  {
   "cell_type": "code",
   "execution_count": 31,
   "metadata": {},
   "outputs": [
    {
     "name": "stdout",
     "output_type": "stream",
     "text": [
      "torch.Size([5318, 1, 28, 28])\n",
      "torch.Size([5318, 100])\n"
     ]
    }
   ],
   "source": [
    "inds = train_loader.sampler.indices\n",
    "n    = len(inds)\n",
    "\n",
    "X1 = torch.Tensor(n, cfg.N_CHANNELS, cfg.IMG_SIZE, cfg.IMG_SIZE)\n",
    "X2 = torch.Tensor(n, cfg.N_GENES)\n",
    "labels = torch.Tensor(n)\n",
    "\n",
    "DIGIT = 0\n",
    "\n",
    "j = 1\n",
    "for idx in inds:\n",
    "    lab = dataset.labels[idx]\n",
    "    if lab.item() != g:\n",
    "        continue\n",
    "\n",
    "    x1, x2 = dataset[idx]\n",
    "    X1[j] = x1\n",
    "    X2[j] = x2\n",
    "    labels[j] = lab\n",
    "    j += 1\n",
    "\n",
    "# Only get samples from a specific type:\n",
    "X1 = X1[:j]\n",
    "X2 = X2[:j]\n",
    "labels = labels[:j]\n",
    "\n",
    "print(X1.shape)\n",
    "print(X2.shape)"
   ]
  },
  {
   "cell_type": "code",
   "execution_count": 32,
   "metadata": {},
   "outputs": [
    {
     "data": {
      "image/png": "[encoded data removed]",
      "text/plain": [
       "<Figure size 1440x720 with 10 Axes>"
      ]
     },
     "metadata": {
      "needs_background": "light"
     },
     "output_type": "display_data"
    }
   ],
   "source": [
    "fig, axes = plt.subplots(1, 10)\n",
    "fig.set_size_inches(20, 10)\n",
    "\n",
    "with torch.no_grad():\n",
    "    X1r, X2r = model.sample([X1, X2], n_samples=10)\n",
    "    X1r = model.sample_x1_from_x2(X2)\n",
    "    for x1r, ax in zip(X1r, axes.flat):\n",
    "        ax.imshow(x1r.squeeze(0).numpy())"
   ]
  },
  {
   "cell_type": "code",
   "execution_count": 33,
   "metadata": {},
   "outputs": [
    {
     "name": "stdout",
     "output_type": "stream",
     "text": [
      "86.18\n"
     ]
    }
   ],
   "source": [
    "from scipy.stats import multivariate_normal\n",
    "from torch.distributions.multivariate_normal import MultivariateNormal\n",
    "\n",
    "p2 = cfg.N_GENES\n",
    "multimodal_mvn_map = {\n",
    "    0: MultivariateNormal(torch.ones(p2),       torch.eye(p2)),\n",
    "    1: MultivariateNormal(torch.ones(p2) * 10,  torch.eye(p2) * 5),\n",
    "    2: MultivariateNormal(torch.ones(p2) * -10, torch.eye(p2) * 10)\n",
    "}\n",
    "\n",
    "n_right = 0\n",
    "n_all   = 0\n",
    "with torch.no_grad():\n",
    "    X2r = model.sample_x2_from_x1(X1)\n",
    "    for x2r in X2r:\n",
    "        n_all += 1\n",
    "        probs = []\n",
    "        for digit in [0, 1, 2]:\n",
    "            mvn = multimodal_mvn_map[digit]\n",
    "            proba = multivariate_normal.pdf(x2r.numpy(), \n",
    "                                            mean=mvn.mean.numpy(), \n",
    "                                            cov=mvn.covariance_matrix.numpy())\n",
    "            probs.append(proba)\n",
    "        \n",
    "        if np.argmax(probs) == DIGIT:\n",
    "            n_right += 1\n",
    "            \n",
    "pct = 100 * (n_right / n_all)\n",
    "print(round(pct, 2))"
   ]
  },
  {
   "cell_type": "code",
   "execution_count": null,
   "metadata": {},
   "outputs": [],
   "source": []
  }
 ],
 "metadata": {
  "kernelspec": {
   "display_name": "Python 3",
   "language": "python",
   "name": "python3"
  }
 },
 "nbformat": 4,
 "nbformat_minor": 2
}
