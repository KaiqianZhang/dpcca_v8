{
 "cells": [
  {
   "cell_type": "code",
   "execution_count": 1,
   "metadata": {},
   "outputs": [
    {
     "name": "stdout",
     "output_type": "stream",
     "text": [
      "/Users/gwg/dmcm\n"
     ]
    }
   ],
   "source": [
    "%cd /Users/gwg/dmcm\n",
    "%matplotlib inline"
   ]
  },
  {
   "cell_type": "code",
   "execution_count": 4,
   "metadata": {},
   "outputs": [],
   "source": [
    "import numpy as np\n",
    "import torch\n",
    "import random\n",
    "import matplotlib.pyplot as plt\n",
    "from   PIL import Image\n",
    "\n",
    "from   data import GTExV8Config, GTExV8Dataset"
   ]
  },
  {
   "cell_type": "code",
   "execution_count": 3,
   "metadata": {},
   "outputs": [],
   "source": [
    "cfg = GTExV8Config()\n",
    "dataset = GTExV8Dataset(cfg)"
   ]
  },
  {
   "cell_type": "code",
   "execution_count": 6,
   "metadata": {},
   "outputs": [
    {
     "name": "stdout",
     "output_type": "stream",
     "text": [
      "35\n"
     ]
    }
   ],
   "source": [
    "print(len(np.unique(dataset.tissues_df.values)))"
   ]
  },
  {
   "cell_type": "code",
   "execution_count": 18,
   "metadata": {},
   "outputs": [
    {
     "name": "stdout",
     "output_type": "stream",
     "text": [
      "0 Adipose - Subcutaneous 487\n",
      "1 Adipose - Visceral (Omentum) 298\n",
      "2 Adrenal Gland 231\n",
      "3 Artery - Aorta 385\n",
      "4 Artery - Coronary 212\n",
      "5 Artery - Tibial 578\n",
      "6 Brain - Cerebellum 208\n",
      "7 Brain - Cortex 204\n",
      "8 Breast - Mammary Tissue 379\n",
      "9 Colon - Sigmoid 315\n",
      "10 Colon - Transverse 367\n",
      "11 Esophagus - Gastroesophageal Junction 327\n",
      "12 Esophagus - Mucosa 492\n",
      "13 Esophagus - Muscularis 463\n",
      "14 Heart - Atrial Appendage 370\n",
      "15 Heart - Left Ventricle 383\n",
      "16 Kidney - Cortex 73\n",
      "17 Liver 206\n",
      "18 Lung 513\n",
      "19 Minor Salivary Gland 144\n",
      "20 Muscle - Skeletal 701\n",
      "21 Nerve - Tibial 530\n",
      "22 Ovary 166\n",
      "23 Pancreas 304\n",
      "24 Pituitary 236\n",
      "25 Prostate 218\n",
      "26 Skin - Not Sun Exposed (Suprapubic) 515\n",
      "27 Skin - Sun Exposed (Lower leg) 600\n",
      "28 Small Intestine - Terminal Ileum 173\n",
      "29 Spleen 227\n",
      "30 Stomach 321\n",
      "31 Testis 321\n",
      "32 Thyroid 571\n",
      "33 Uterus 128\n",
      "34 Vagina 140\n",
      "11786\n"
     ]
    }
   ],
   "source": [
    "df = dataset.tissues_df\n",
    "t = 0\n",
    "for i, tissue in enumerate(np.unique(df.values)):\n",
    "    c = len(df.loc[df['tissue'] == tissue])\n",
    "    t += c\n",
    "    print(i, tissue, c)\n",
    "print(t)"
   ]
  },
  {
   "cell_type": "code",
   "execution_count": null,
   "metadata": {},
   "outputs": [],
   "source": []
  }
 ],
 "metadata": {
  "kernelspec": {
   "display_name": "Python 3",
   "language": "python",
   "name": "python3"
  },
  "language_info": {
   "codemirror_mode": {
    "name": "ipython",
    "version": 3
   },
   "file_extension": ".py",
   "mimetype": "text/x-python",
   "name": "python",
   "nbconvert_exporter": "python",
   "pygments_lexer": "ipython3",
   "version": "3.7.1"
  }
 },
 "nbformat": 4,
 "nbformat_minor": 2
}
