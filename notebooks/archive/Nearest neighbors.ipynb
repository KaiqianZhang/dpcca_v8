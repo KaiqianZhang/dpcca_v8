{
 "cells": [
  {
   "cell_type": "code",
   "execution_count": 3,
   "metadata": {},
   "outputs": [
    {
     "name": "stdout",
     "output_type": "stream",
     "text": [
      "/Users/gwg/local/dmcm\n"
     ]
    }
   ],
   "source": [
    "\"\"\"=============================================================================\n",
    "Embed all images into a matrix Z1.\n",
    "Select a gene g2i at random, embed it to vector z2i.\n",
    "Find the z1 in Z1 that is closest to z2i.\n",
    "It should either be the image pair for g2i or share similar image properties.\n",
    "=============================================================================\"\"\"\n",
    "\n",
    "%cd /Users/gwg/local/dmcm\n",
    "%matplotlib inline"
   ]
  },
  {
   "cell_type": "code",
   "execution_count": 9,
   "metadata": {},
   "outputs": [],
   "source": [
    "import random\n",
    "\n",
    "from   sklearn import manifold, decomposition \n",
    "from   sklearn import manifold, decomposition \n",
    "from   scipy.spatial.distance import cdist \n",
    "import numpy as np\n",
    "\n",
    "import matplotlib \n",
    "import matplotlib.pyplot as plt \n",
    "from   matplotlib.offsetbox import OffsetImage, AnnotationBbox\n",
    "\n",
    "import torch \n",
    "from   torch.autograd import Variable \n",
    "from   torchvision.utils import save_image\n",
    "\n",
    "from   models import load_trained_model \n",
    "from   data.synth.config import SynthConfig \n",
    "from   data import SynthDataset\n",
    "\n",
    "config  = SynthConfig()\n",
    "dataset = SynthDataset(config)\n",
    "base  = '/Users/gwg/local/dmcm/experiments/20180304_synth'\n",
    "dir_  = 'synth_l1_coef-0.0001_lr-0.0001'\n",
    "fname = '%s/%s/model.pt' % (base, dir_)\n",
    "model = load_trained_model(config, fname, cpu=True)\n",
    "model = model.eval()\n",
    "\n",
    "X1 = dataset.images\n",
    "X2 = dataset.colors\n",
    "\n",
    "Z1 = torch.load('%s/%s/K1.pt' % (base, dir_)).numpy()\n",
    "Z2 = torch.load('%s/%s/K2.pt' % (base, dir_)).numpy()"
   ]
  },
  {
   "cell_type": "code",
   "execution_count": null,
   "metadata": {},
   "outputs": [],
   "source": [
    "# Select random image, color pair.\n",
    "r = random.randint(0, len(dataset))\n",
    "x1, x2, _ = dataset[r]\n",
    "x1        = Variable(x1)\n",
    "x2        = Variable(x2)\n",
    "\n",
    "(z1, x1_recon, mu, logvar), z2 = model.forward([x1, x2])\n",
    "\n",
    "# Sort the color vectors based on the reference color vector.\n",
    "ref = z2.data.numpy()\n",
    "def euclidean(x):\n",
    "    x1, x2 = x\n",
    "    return np.linalg.norm(ref - x1)\n",
    "\n",
    "# Sort color vector embeddings and original images by reference color vector.\n",
    "Z2s, X1s = zip(*sorted(zip(Z2, X1), key=euclidean))\n",
    "# Skip first one, which is reference image.\n",
    "X1s = X1s[1:21]\n",
    "\n",
    "DIR = '/Users/gwg/local/dmcm/scratch/nearest/'\n",
    "save_image(x1.data, '%s/0_reference.png' % DIR)\n",
    "for i, x in enumerate(X1s):\n",
    "    save_image(x, '%s/%s.png' % (DIR, i))"
   ]
  },
  {
   "cell_type": "code",
   "execution_count": null,
   "metadata": {},
   "outputs": [],
   "source": []
  }
 ],
 "metadata": {
  "kernelspec": {
   "display_name": "Python 3",
   "language": "python",
   "name": "python3"
  },
  "language_info": {
   "codemirror_mode": {
    "name": "ipython",
    "version": 3
   },
   "file_extension": ".py",
   "mimetype": "text/x-python",
   "name": "python",
   "nbconvert_exporter": "python",
   "pygments_lexer": "ipython3",
   "version": "3.6.3"
  }
 },
 "nbformat": 4,
 "nbformat_minor": 2
}
