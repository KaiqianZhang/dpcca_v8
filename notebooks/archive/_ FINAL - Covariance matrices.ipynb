{
 "cells": [
  {
   "cell_type": "code",
   "execution_count": 1,
   "metadata": {},
   "outputs": [
    {
     "name": "stdout",
     "output_type": "stream",
     "text": [
      "/Users/gwg/local/dmcm\n"
     ]
    }
   ],
   "source": [
    "%cd /Users/gwg/local/dmcm\n",
    "%matplotlib inline"
   ]
  },
  {
   "cell_type": "code",
   "execution_count": 2,
   "metadata": {},
   "outputs": [],
   "source": [
    "import torch\n",
    "import random\n",
    "\n",
    "from   data import GTExConfig, GTExDataset\n",
    "from   models import CCAAE"
   ]
  },
  {
   "cell_type": "code",
   "execution_count": 3,
   "metadata": {},
   "outputs": [],
   "source": [
    "cfg = GTExConfig()\n",
    "cfg.PCCA_Z_DIM = 100\n",
    "\n",
    "dataset = GTExDataset(cfg)\n",
    "images = dataset.images.numpy()\n",
    "\n",
    "path = 'experiments/20181003_shared_z_crossmod/'\\\n",
    "       'gtex_mode-ccaae_latent_dim-100_seed-0_lr-1e-05_BEST/model.pt'\n",
    "    \n",
    "state = torch.load(path, map_location={'cuda:0': 'cpu'})\n",
    "model = CCAAE(cfg)\n",
    "model.load_state_dict(state)"
   ]
  },
  {
   "cell_type": "code",
   "execution_count": 4,
   "metadata": {},
   "outputs": [],
   "source": [
    "import random\n",
    "\n",
    "inds = [-1]\n",
    "\n",
    "x1_batch = torch.Tensor(128, 3, 128, 128)\n",
    "x2_batch = torch.Tensor(128, 18659)\n",
    "\n",
    "for i in range(128):\n",
    "    r = -1\n",
    "    while r in inds:\n",
    "        r = random.randint(0, 2221)\n",
    "\n",
    "    inds.append(r)\n",
    "    x1, x2 = dataset[r]\n",
    "    x1_batch[i] = x1\n",
    "    x2_batch[i] = x2\n",
    "    \n",
    "_, x2_batch_r = model.forward([x1_batch, x2_batch])\n",
    "\n",
    "torch.save({\n",
    "    'x2_batch': x2_batch,\n",
    "    'x2_batch_r': x2_batch_r\n",
    "}, 'gene_expression_batch.pt')"
   ]
  },
  {
   "cell_type": "code",
   "execution_count": 5,
   "metadata": {},
   "outputs": [],
   "source": [
    "import numpy as np\n",
    "import matplotlib.pyplot as plt\n",
    "\n",
    "data = torch.load('gene_expression_batch.pt')\n",
    "arr1 = data['x2_batch'].detach().numpy()\n",
    "arr2 = data['x2_batch_r'].detach().numpy()"
   ]
  },
  {
   "cell_type": "code",
   "execution_count": 6,
   "metadata": {},
   "outputs": [],
   "source": [
    "def subset(mat, mat2, top):\n",
    "    '''\n",
    "    top is an integer of how many things we want to keep\n",
    "    '''\n",
    "    C  = np.dot(mat.T, mat)\n",
    "    C2 = np.dot(mat2.T, mat2)\n",
    "    n,m = C.shape\n",
    "    \n",
    "    C_sums = [np.sum(C[i,:]) for i in range(n)]\n",
    "    \n",
    "    top_idx  = np.argsort(C_sums)[-top:]\n",
    "    \n",
    "    truncated_C  = np.zeros((len(top_idx),len(top_idx)))\n",
    "    truncated_C2 = np.zeros((len(top_idx),len(top_idx)))\n",
    "    \n",
    "    for i in range(top):\n",
    "        for j in range(top):\n",
    "            truncated_C[i,j]  = C[top_idx[i],top_idx[j]]\n",
    "            truncated_C2[i,j] = C2[top_idx[i],top_idx[j]]\n",
    "            \n",
    "    return truncated_C, truncated_C2"
   ]
  },
  {
   "cell_type": "code",
   "execution_count": 9,
   "metadata": {},
   "outputs": [
    {
     "data": {
      "text/plain": [
       "<matplotlib.image.AxesImage at 0x22a8f98390>"
      ]
     },
     "execution_count": 9,
     "metadata": {},
     "output_type": "execute_result"
    },
    {
     "data": {
      "image/png": "[encoded data removed]",
      "text/plain": [
       "<matplotlib.figure.Figure at 0x22a8e3c7b8>"
      ]
     },
     "metadata": {},
     "output_type": "display_data"
    }
   ],
   "source": [
    "truncated_C, truncated_C2 = subset(arr1, arr2, 10)\n",
    "\n",
    "plt.imshow(truncated_C)"
   ]
  },
  {
   "cell_type": "code",
   "execution_count": 10,
   "metadata": {},
   "outputs": [
    {
     "data": {
      "text/plain": [
       "<matplotlib.image.AxesImage at 0x22a9081e48>"
      ]
     },
     "execution_count": 10,
     "metadata": {},
     "output_type": "execute_result"
    },
    {
     "data": {
      "image/png": "[encoded data removed]",
      "text/plain": [
       "<matplotlib.figure.Figure at 0x22a8e469e8>"
      ]
     },
     "metadata": {},
     "output_type": "display_data"
    }
   ],
   "source": [
    "\n",
    "plt.imshow(truncated_C2)"
   ]
  },
  {
   "cell_type": "code",
   "execution_count": null,
   "metadata": {},
   "outputs": [],
   "source": []
  }
 ],
 "metadata": {
  "kernelspec": {
   "display_name": "Python 3",
   "language": "python",
   "name": "python3"
  },
  "language_info": {
   "codemirror_mode": {
    "name": "ipython",
    "version": 3
   },
   "file_extension": ".py",
   "mimetype": "text/x-python",
   "name": "python",
   "nbconvert_exporter": "python",
   "pygments_lexer": "ipython3",
   "version": "3.6.3"
  }
 },
 "nbformat": 4,
 "nbformat_minor": 2
}
