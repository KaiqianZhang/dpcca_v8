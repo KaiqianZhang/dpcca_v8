{
 "cells": [
  {
   "cell_type": "markdown",
   "metadata": {},
   "source": [
    "In the following we will use the derivations from the simple FA model\n",
    "to obtain a probabilistic version of CCA."
   ]
  },
  {
   "cell_type": "code",
   "execution_count": 2,
   "metadata": {},
   "outputs": [],
   "source": [
    "%matplotlib inline"
   ]
  },
  {
   "cell_type": "code",
   "execution_count": 4,
   "metadata": {},
   "outputs": [],
   "source": [
    "import numpy as np\n",
    "import matplotlib.pyplot as plt"
   ]
  },
  {
   "cell_type": "markdown",
   "metadata": {},
   "source": [
    "Let $X$ and $Y$ be two aligned data sets of dimensions $p_x \\times n$ and $p_y \\times n$.\n",
    "We refer to the corresponding $i_{th}$ observations as $x_i$, $y_i$ -- these are column\n",
    "vectors of dimensions $p_x$, and $p_y$ respectively. We consider a generative model under\n",
    "which there exist latent variables $z_i \\in \\mathbb{R}^k$ with $i \\in \\{1, 2, \\ldots n\\}$, \n",
    "such that:\n",
    "\n",
    "\\begin{align}\n",
    "p(x_i | z_i)  &= \\mathcal{N} (W_x z_i + \\mu_x, \\Psi_x) \\\\\n",
    "p(y_i | z_i)  &= \\mathcal{N} (W_y z_i + \\mu_y, \\Psi_y) \\\\\n",
    "p(z_i) &=  \\mathcal{N}(0, I_{k})\n",
    "\\end{align}\n",
    "\n"
   ]
  },
  {
   "cell_type": "markdown",
   "metadata": {},
   "source": [
    "Here $W_x \\in \\mathbb{R}^{p_x \\times k}$, and $W_y \\in \\mathbb{R}^{p_y \\times k}$.\n",
    "\n",
    "\n",
    "The updates for this model follow from a factor model with\n",
    "\n",
    "\\begin{align}\n",
    "\\Lambda = \\begin{bmatrix}\n",
    "    W_x \\\\\n",
    "    W_y\n",
    "\\end{bmatrix},\n",
    "\\Psi = \\begin{bmatrix}\n",
    "    \\Psi_x & 0 \\\\\n",
    "    0 & \\Psi_y\n",
    "    \\end{bmatrix},\\\n",
    " v_i = (x_i; y_i) \\in \\mathbb{R}^{p_x + p_y}\n",
    "\\end{align}\n",
    "\n",
    "In particular, letting, \n",
    "\\begin{align}\n",
    "\\beta = \\Lambda^\\top (\\Lambda \\Lambda^\\top + \\Psi)^{-1},\n",
    "\\end{align}\n",
    "\n",
    "The latent expectation and covariance are given by the formulas\n",
    "\n",
    "\\begin{align}\n",
    "\\mathbb{E}[z | v_i] &= \\beta v_i \\\\\n",
    "\\mathbb{E}[z z^\\top | v_i] &= I_{k} - \\beta \\Lambda + \\beta v_i v_i^\\top \\beta^\\top,\n",
    "\\end{align}\n",
    "\n",
    "Putting everything together,\n",
    "\n",
    "\\begin{align}\n",
    "\\Lambda^* & = \\left(\\sum_{i=1}^n v_i \\mathbb{E}[z|v_i]^\\top \\right) \\left(\\sum_{i=1}^n \\mathbb{E}[z z^\\top | v_i]\\right)^{-1} \\\\\n",
    "\\Psi^* & = \\frac{1}{n} diag(\\sum_{i=1}^n v_i v_i^\\top - \\Lambda^* \\mathbb{E}[z|v_i] v_i^\\top)\n",
    "\\end{align}"
   ]
  },
  {
   "cell_type": "code",
   "execution_count": 5,
   "metadata": {},
   "outputs": [],
   "source": [
    "def gen_simple_dataset(p_x, p_y, k, n, sigma_x, sigma_y):\n",
    "    \n",
    "    X     = np.zeros((p_x, n))\n",
    "    Y     = np.zeros((p_y, n))\n",
    "    \n",
    "    W_x   = np.random.random((p_x, k))\n",
    "    W_y   = np.random.random((p_y, k))\n",
    "    Z     = np.random.random((k, n))\n",
    "    \n",
    "    m_x   = np.dot(W_x, Z)\n",
    "    m_y   = np.dot(W_y, Z)\n",
    "    \n",
    "    \n",
    "    Psi_x = sigma_x * np.eye(p_x)\n",
    "    Psi_y = sigma_y * np.eye(p_y)\n",
    "    \n",
    "    for i in range(n):\n",
    "        X[:,i] = np.random.multivariate_normal(mean = m_x[:,i], cov = Psi_x)\n",
    "        Y[:,i] = np.random.multivariate_normal(mean = m_y[:,i], cov = Psi_y)\n",
    "        \n",
    "    return X, Y, Z, W_x, W_y"
   ]
  },
  {
   "cell_type": "code",
   "execution_count": 6,
   "metadata": {},
   "outputs": [],
   "source": [
    "def E_z_given_v_i_Murphy(Lambda, Psi, vi):\n",
    "    \n",
    "    beta = np.linalg.inv(np.dot(Lambda, Lambda.T) + Psi)\n",
    "    beta = np.dot(Lambda.T, beta)\n",
    "    \n",
    "    return np.dot(beta, vi)\n",
    "\n",
    "def E_zzT_give_v_i_Murphy(Lambda, Psi, vi):\n",
    "    \n",
    "    beta  = np.linalg.inv(np.dot(Lambda, Lambda.T) + Psi)\n",
    "    beta  = np.dot(Lambda.T, beta)\n",
    "    \n",
    "    _, k = Lambda.shape\n",
    "    \n",
    "    bv    = np.dot(beta, vi)\n",
    "    bvvb  = np.dot(bv, bv.T)\n",
    "    \n",
    "    return  np.eye(k) - np.dot(beta, Lambda) + bvvb\n",
    "\n",
    "\n",
    "def E_z_given_v_i_Bishop(Lambda, Psi, vi):\n",
    "    \n",
    "    LT_P_L = np.dot(Lambda.T, np.dot(np.linalg.inv(Psi), Lambda)) #12.66, 12.67, 12.68\n",
    "    G      = np.linalg.inv(np.eye(LT_P_L.shape[0]) + LT_P_L) \n",
    "    \n",
    "    beta   = np.dot(G, np.dot(Lambda.T, np.linalg.inv(Psi))) \n",
    "    \n",
    "    return np.dot(beta, vi)\n",
    "\n",
    "def E_zzT_give_v_i_Bishop(Lambda, Psi, vi):\n",
    "    \n",
    "    LT_P_L = np.dot(Lambda.T, np.dot(np.linalg.inv(Psi), Lambda))\n",
    "    G      = np.linalg.inv(np.eye(LT_P_L.shape[0]) + LT_P_L) \n",
    "    \n",
    "    E_z    =  E_z_given_v_i_Bishop(Lambda, Psi, vi)\n",
    "    \n",
    "    return G + np.dot(E_z, E_z.T)"
   ]
  },
  {
   "cell_type": "code",
   "execution_count": 7,
   "metadata": {},
   "outputs": [],
   "source": [
    "def M_step(Lambda, Psi, V):\n",
    "    \n",
    "    '''\n",
    "    Psi   : (p_x + p_y) by (p_x + p_y)  \n",
    "    Lambda: (p_x + p_y) by k \n",
    "    V     : (p_x + p_y) by n\n",
    "    '''\n",
    "    \n",
    "    p, k         = Lambda.shape\n",
    "    \n",
    "    # update lambda\n",
    "    # -------------------\n",
    "    \n",
    "    # These are the two terms in the Lambda update\n",
    "    Lambda_new_1 = np.zeros((p, k))\n",
    "    Lambda_new_2 = np.zeros((k, k))\n",
    "\n",
    "    for i in range(n):\n",
    "        \n",
    "        # Expectation terms\n",
    "        # The difference between Bishop and Murphy is that \n",
    "        # Bishop's derivation uses the Woodbury identity (see G&H)\n",
    "        # while Murphy implementation just uses Numpy's built-in inverse\n",
    "        # function.\n",
    "        Exp_i        = E_z_given_v_i_Bishop(Lambda, Psi, V[:,i,None])\n",
    "        Cov_i        = E_zzT_give_v_i_Bishop(Lambda, Psi, V[:,i,None])\n",
    "        \n",
    "        Lambda_new_1 += np.dot(V[:,i,None], Exp_i.T)\n",
    "        Lambda_new_2 += Cov_i\n",
    "    \n",
    "    Lambda_star  = np.dot(Lambda_new_1, np.linalg.inv(Lambda_new_2)) \n",
    "    \n",
    "    # update psi\n",
    "    # -------------------\n",
    "    Psi_new      = np.zeros(Psi.shape)\n",
    "    for i in range(n):\n",
    "        Exp_i        = E_z_given_v_i_Bishop(Lambda, Psi, V[:,i,None])\n",
    "        Psi_new      = Psi_new + np.dot(V[:,i,None], V[:,i,None].T) - np.dot(Lambda_star, np.dot(Exp_i, V[:,i,None].T))\n",
    "\n",
    "    Psi_star     = 1./n * np.diag(np.diag(Psi_new))\n",
    "    \n",
    "    return Lambda_star, Psi_star"
   ]
  },
  {
   "cell_type": "code",
   "execution_count": 9,
   "metadata": {},
   "outputs": [
    {
     "name": "stdout",
     "output_type": "stream",
     "text": [
      "(50, 1000)\n"
     ]
    }
   ],
   "source": [
    "#test\n",
    "#generate dataset\n",
    "\n",
    "p_x = 50\n",
    "p_y = 30\n",
    "k = 10\n",
    "n = 1000\n",
    "sigma_x = 1.0\n",
    "sigma_y = 1.5\n",
    "\n",
    "X, Y, Z, W_x, W_y = gen_simple_dataset(p_x, p_y, k, n, sigma_x, sigma_y)\n",
    "print(X.shape)"
   ]
  },
  {
   "cell_type": "code",
   "execution_count": 7,
   "metadata": {},
   "outputs": [],
   "source": [
    "#initialize\n",
    "sigma_init = 0.5\n",
    "W_x_init   = np.random.random((p_x, k))\n",
    "W_y_init   = np.random.random((p_y, k))\n",
    "\n",
    "Psi_x_init = sigma_x * np.eye(p_x)\n",
    "Psi_y_init = sigma_y * np.eye(p_y)"
   ]
  },
  {
   "cell_type": "code",
   "execution_count": 8,
   "metadata": {},
   "outputs": [
    {
     "data": {
      "text/plain": [
       "(80, 1000)"
      ]
     },
     "execution_count": 8,
     "metadata": {},
     "output_type": "execute_result"
    }
   ],
   "source": [
    "V = np.concatenate((X, Y), axis=0)\n",
    "V.shape"
   ]
  },
  {
   "cell_type": "code",
   "execution_count": 9,
   "metadata": {},
   "outputs": [
    {
     "data": {
      "text/plain": [
       "(80, 10)"
      ]
     },
     "execution_count": 9,
     "metadata": {},
     "output_type": "execute_result"
    }
   ],
   "source": [
    "Lambda_init = np.concatenate((W_x_init, W_y_init), axis=0)\n",
    "Lambda_init.shape"
   ]
  },
  {
   "cell_type": "code",
   "execution_count": 10,
   "metadata": {},
   "outputs": [
    {
     "data": {
      "text/plain": [
       "(80, 80)"
      ]
     },
     "execution_count": 10,
     "metadata": {},
     "output_type": "execute_result"
    }
   ],
   "source": [
    "Psi_init = np.block([[Psi_x_init, np.zeros((p_x, p_y))], [np.ones((p_y, p_x)), Psi_y_init]])\n",
    "Psi_init.shape"
   ]
  },
  {
   "cell_type": "code",
   "execution_count": 17,
   "metadata": {},
   "outputs": [
    {
     "name": "stdout",
     "output_type": "stream",
     "text": [
      "0  iteration\n",
      "1  iteration\n",
      "2  iteration\n",
      "3  iteration\n",
      "4  iteration\n",
      "5  iteration\n",
      "6  iteration\n",
      "7  iteration\n",
      "8  iteration\n",
      "9  iteration\n",
      "10  iteration\n",
      "11  iteration\n",
      "12  iteration\n",
      "13  iteration\n",
      "14  iteration\n",
      "15  iteration\n",
      "16  iteration\n",
      "17  iteration\n",
      "18  iteration\n",
      "19  iteration\n",
      "20  iteration\n",
      "21  iteration\n",
      "22  iteration\n",
      "23  iteration\n",
      "24  iteration\n",
      "25  iteration\n",
      "26  iteration\n",
      "27  iteration\n",
      "28  iteration\n",
      "29  iteration\n",
      "30  iteration\n",
      "31  iteration\n",
      "32  iteration\n",
      "33  iteration\n",
      "34  iteration\n",
      "35  iteration\n",
      "36  iteration\n",
      "37  iteration\n",
      "38  iteration\n",
      "39  iteration\n",
      "40  iteration\n",
      "41  iteration\n",
      "42  iteration\n",
      "43  iteration\n",
      "44  iteration\n",
      "45  iteration\n",
      "46  iteration\n",
      "47  iteration\n",
      "48  iteration\n",
      "49  iteration\n",
      "50  iteration\n",
      "51  iteration\n",
      "52  iteration\n",
      "53  iteration\n",
      "54  iteration\n",
      "55  iteration\n",
      "56  iteration\n",
      "57  iteration\n",
      "58  iteration\n",
      "59  iteration\n",
      "60  iteration\n",
      "61  iteration\n",
      "62  iteration\n",
      "63  iteration\n",
      "64  iteration\n",
      "65  iteration\n",
      "66  iteration\n",
      "67  iteration\n",
      "68  iteration\n",
      "69  iteration\n",
      "70  iteration\n",
      "71  iteration\n",
      "72  iteration\n",
      "73  iteration\n",
      "74  iteration\n",
      "75  iteration\n",
      "76  iteration\n",
      "77  iteration\n",
      "78  iteration\n",
      "79  iteration\n",
      "80  iteration\n",
      "81  iteration\n",
      "82  iteration\n",
      "83  iteration\n",
      "84  iteration\n",
      "85  iteration\n",
      "86  iteration\n",
      "87  iteration\n",
      "88  iteration\n",
      "89  iteration\n",
      "90  iteration\n",
      "91  iteration\n",
      "92  iteration\n",
      "93  iteration\n",
      "94  iteration\n",
      "95  iteration\n",
      "96  iteration\n",
      "97  iteration\n",
      "98  iteration\n",
      "99  iteration\n"
     ]
    }
   ],
   "source": [
    "iters      = 100\n",
    "Lambda_old = Lambda_init\n",
    "Psi_old    = Psi_init\n",
    "\n",
    "for _ in range(iters):\n",
    "    print(_, \" iteration\")\n",
    "    \n",
    "    Lambda_new, Psi_new = M_step(Lambda_old, Psi_old, V)\n",
    "    Lambda_old = Lambda_new\n",
    "    Psi_old    = Psi_new\n"
   ]
  },
  {
   "cell_type": "code",
   "execution_count": 18,
   "metadata": {},
   "outputs": [],
   "source": [
    "#Psi_new[:p_x, :p_x]\n",
    "#Psi_new[p_x:, p_x:]"
   ]
  },
  {
   "cell_type": "code",
   "execution_count": 19,
   "metadata": {},
   "outputs": [],
   "source": [
    "Z_est = np.zeros(Z.shape)\n",
    "for i in range(Z.shape[1]):\n",
    "    Z_est[:,i] = E_z_given_v_i_Bishop(Lambda_new, Psi_new, V[:,i])"
   ]
  },
  {
   "cell_type": "code",
   "execution_count": 20,
   "metadata": {},
   "outputs": [
    {
     "data": {
      "text/plain": [
       "array([[ 0.61800372,  0.67704729,  0.2996038 ,  0.93629477,  0.21101635,\n",
       "         0.71937384,  0.84181225,  0.65311834,  0.89782692,  0.00519197],\n",
       "       [ 0.66799676,  0.62337837,  0.03383087,  0.4436514 ,  0.31945389,\n",
       "         0.60760997,  0.15943079,  0.12650056,  0.54836049,  0.61637373],\n",
       "       [ 0.46972741,  0.476861  ,  0.69091939,  0.18208955,  0.91634602,\n",
       "         0.13338135,  0.83745667,  0.21151824,  0.5781412 ,  0.23121   ],\n",
       "       [ 0.34601919,  0.12237393,  0.83612163,  0.50926918,  0.44824805,\n",
       "         0.8002443 ,  0.28162397,  0.32801907,  0.94693596,  0.88070894],\n",
       "       [ 0.20771045,  0.62730002,  0.66165557,  0.48189134,  0.71685325,\n",
       "         0.42670958,  0.62194144,  0.31624676,  0.5961284 ,  0.46497062]])"
      ]
     },
     "execution_count": 20,
     "metadata": {},
     "output_type": "execute_result"
    }
   ],
   "source": [
    "Z[:5,:10]"
   ]
  },
  {
   "cell_type": "code",
   "execution_count": 21,
   "metadata": {},
   "outputs": [
    {
     "data": {
      "text/plain": [
       "array([[-0.42169936,  0.30292641,  0.30286639,  1.15133226, -0.8116444 ,\n",
       "         0.03960725, -0.07976182,  1.37369668,  0.0299327 , -0.19885088],\n",
       "       [ 0.93851271,  0.72200708,  1.22059855,  1.02445259,  1.27681264,\n",
       "         0.88396021, -0.41274453,  0.86941553, -0.62026521,  0.21252015],\n",
       "       [ 0.16143269,  0.1501104 ,  0.30418442,  0.23048693,  0.82848035,\n",
       "         0.22267908,  0.69063287,  0.25169303, -0.15031354,  0.89182338],\n",
       "       [ 0.66459168,  0.23214191, -0.54130598,  0.73900007,  1.5053348 ,\n",
       "         0.46537987, -0.33090441, -0.47185377,  0.81399271, -0.17601385],\n",
       "       [-0.14242478,  0.81189462, -0.01998319,  1.58702391,  0.31319139,\n",
       "         1.03841325,  1.81867443,  0.88254865,  0.9427338 ,  0.6998384 ]])"
      ]
     },
     "execution_count": 21,
     "metadata": {},
     "output_type": "execute_result"
    }
   ],
   "source": [
    "Z_est[:5,:10]"
   ]
  },
  {
   "cell_type": "code",
   "execution_count": 22,
   "metadata": {},
   "outputs": [],
   "source": [
    "#fig, ax = plt.subplots(figsize=(16, 2))\n",
    "#ax.imshow(Z[:,:30], interpolation='nearest')\n",
    "#plt.show()\n",
    "#fig, ax = plt.subplots(figsize=(16, 2))\n",
    "#ax.imshow(Z_est[:,:30], interpolation='nearest')\n",
    "#plt.tight_layout()\n",
    "\n",
    "#fig, ax = plt.subplots(figsize=(16, 2))\n",
    "#ax.imshow(Z_est[:,:30] - Z[:,:30], interpolation='nearest')\n",
    "#plt.tight_layout()"
   ]
  },
  {
   "cell_type": "code",
   "execution_count": 23,
   "metadata": {},
   "outputs": [
    {
     "data": {
      "text/plain": [
       "70.774693707826302"
      ]
     },
     "execution_count": 23,
     "metadata": {},
     "output_type": "execute_result"
    }
   ],
   "source": [
    "np.linalg.norm(Z_est - Z)"
   ]
  },
  {
   "cell_type": "code",
   "execution_count": null,
   "metadata": {},
   "outputs": [],
   "source": []
  }
 ],
 "metadata": {
  "kernelspec": {
   "display_name": "Python 3",
   "language": "python",
   "name": "python3"
  },
  "language_info": {
   "codemirror_mode": {
    "name": "ipython",
    "version": 3
   },
   "file_extension": ".py",
   "mimetype": "text/x-python",
   "name": "python",
   "nbconvert_exporter": "python",
   "pygments_lexer": "ipython3",
   "version": "3.6.3"
  }
 },
 "nbformat": 4,
 "nbformat_minor": 2
}
