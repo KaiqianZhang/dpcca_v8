{
 "cells": [
  {
   "cell_type": "code",
   "execution_count": 3,
   "metadata": {},
   "outputs": [
    {
     "name": "stdout",
     "output_type": "stream",
     "text": [
      "/Users/gwg/local/dmcm\n"
     ]
    }
   ],
   "source": [
    "%cd /Users/gwg/local/dmcm\n",
    "%matplotlib inline"
   ]
  },
  {
   "cell_type": "code",
   "execution_count": 4,
   "metadata": {},
   "outputs": [
    {
     "ename": "RuntimeError",
     "evalue": "While copying the parameter named conv_net.fc1.weight, whose dimensions in the model are torch.Size([128, 784]) and whose dimensions in the checkpoint are torch.Size([100, 784]).",
     "output_type": "error",
     "traceback": [
      "\u001b[0;31m---------------------------------------------------------------------------\u001b[0m",
      "\u001b[0;31mRuntimeError\u001b[0m                              Traceback (most recent call last)",
      "\u001b[0;32m~/anaconda3/envs/dmcm/lib/python3.6/site-packages/torch/nn/modules/module.py\u001b[0m in \u001b[0;36mload_state_dict\u001b[0;34m(self, state_dict, strict)\u001b[0m\n\u001b[1;32m    481\u001b[0m                 \u001b[0;32mtry\u001b[0m\u001b[0;34m:\u001b[0m\u001b[0;34m\u001b[0m\u001b[0m\n\u001b[0;32m--> 482\u001b[0;31m                     \u001b[0mown_state\u001b[0m\u001b[0;34m[\u001b[0m\u001b[0mname\u001b[0m\u001b[0;34m]\u001b[0m\u001b[0;34m.\u001b[0m\u001b[0mcopy_\u001b[0m\u001b[0;34m(\u001b[0m\u001b[0mparam\u001b[0m\u001b[0;34m)\u001b[0m\u001b[0;34m\u001b[0m\u001b[0m\n\u001b[0m\u001b[1;32m    483\u001b[0m                 \u001b[0;32mexcept\u001b[0m \u001b[0mException\u001b[0m\u001b[0;34m:\u001b[0m\u001b[0;34m\u001b[0m\u001b[0m\n",
      "\u001b[0;31mRuntimeError\u001b[0m: inconsistent tensor size, expected tensor [128 x 784] and src [100 x 784] to have the same number of elements, but got 100352 and 78400 elements respectively at /Users/soumith/minicondabuild3/conda-bld/pytorch_1512381214802/work/torch/lib/TH/generic/THTensorCopy.c:86",
      "\nDuring handling of the above exception, another exception occurred:\n",
      "\u001b[0;31mRuntimeError\u001b[0m                              Traceback (most recent call last)",
      "\u001b[0;32m<ipython-input-4-ff4ad102d649>\u001b[0m in \u001b[0;36m<module>\u001b[0;34m()\u001b[0m\n\u001b[1;32m     26\u001b[0m \u001b[0mdir_\u001b[0m    \u001b[0;34m=\u001b[0m \u001b[0;34m'/Users/gwg/local/dmcm/experiments/20180326_mnist/'\u001b[0m          \u001b[0;34m'mnist_l1_coef-5000.0_lr-0.0001'\u001b[0m\u001b[0;34m\u001b[0m\u001b[0m\n\u001b[1;32m     27\u001b[0m \u001b[0mfname\u001b[0m   \u001b[0;34m=\u001b[0m \u001b[0;34m'%s/model.pt'\u001b[0m \u001b[0;34m%\u001b[0m \u001b[0mdir_\u001b[0m\u001b[0;34m\u001b[0m\u001b[0m\n\u001b[0;32m---> 28\u001b[0;31m \u001b[0mmodel\u001b[0m   \u001b[0;34m=\u001b[0m \u001b[0mload_trained_model\u001b[0m\u001b[0;34m(\u001b[0m\u001b[0mconfig\u001b[0m\u001b[0;34m,\u001b[0m \u001b[0mfname\u001b[0m\u001b[0;34m,\u001b[0m \u001b[0mcpu\u001b[0m\u001b[0;34m=\u001b[0m\u001b[0;32mTrue\u001b[0m\u001b[0;34m)\u001b[0m\u001b[0;34m\u001b[0m\u001b[0m\n\u001b[0m\u001b[1;32m     29\u001b[0m \u001b[0;34m\u001b[0m\u001b[0m\n\u001b[1;32m     30\u001b[0m \u001b[0mmodel\u001b[0m\u001b[0;34m.\u001b[0m\u001b[0meval\u001b[0m\u001b[0;34m(\u001b[0m\u001b[0;34m)\u001b[0m\u001b[0;34m\u001b[0m\u001b[0m\n",
      "\u001b[0;32m~/local/dmcm/models/__init__.py\u001b[0m in \u001b[0;36mload_trained_model\u001b[0;34m(config, fname, cpu)\u001b[0m\n\u001b[1;32m     22\u001b[0m     \u001b[0mmodel\u001b[0m \u001b[0;34m=\u001b[0m \u001b[0mDMCM\u001b[0m\u001b[0;34m(\u001b[0m\u001b[0mconfig\u001b[0m\u001b[0;34m)\u001b[0m\u001b[0;34m\u001b[0m\u001b[0m\n\u001b[1;32m     23\u001b[0m     \u001b[0;32mtry\u001b[0m\u001b[0;34m:\u001b[0m\u001b[0;34m\u001b[0m\u001b[0m\n\u001b[0;32m---> 24\u001b[0;31m         \u001b[0mmodel\u001b[0m\u001b[0;34m.\u001b[0m\u001b[0mload_state_dict\u001b[0m\u001b[0;34m(\u001b[0m\u001b[0mstate_dict\u001b[0m\u001b[0;34m)\u001b[0m\u001b[0;34m\u001b[0m\u001b[0m\n\u001b[0m\u001b[1;32m     25\u001b[0m     \u001b[0;32mexcept\u001b[0m \u001b[0mKeyError\u001b[0m\u001b[0;34m:\u001b[0m\u001b[0;34m\u001b[0m\u001b[0m\n\u001b[1;32m     26\u001b[0m         \u001b[0mmodel\u001b[0m\u001b[0;34m.\u001b[0m\u001b[0mgene_matrix\u001b[0m \u001b[0;34m=\u001b[0m \u001b[0mmodel\u001b[0m\u001b[0;34m.\u001b[0m\u001b[0msparse_net\u001b[0m\u001b[0;34m\u001b[0m\u001b[0m\n",
      "\u001b[0;32m~/anaconda3/envs/dmcm/lib/python3.6/site-packages/torch/nn/modules/module.py\u001b[0m in \u001b[0;36mload_state_dict\u001b[0;34m(self, state_dict, strict)\u001b[0m\n\u001b[1;32m    485\u001b[0m                                        \u001b[0;34m'whose dimensions in the model are {} and '\u001b[0m\u001b[0;34m\u001b[0m\u001b[0m\n\u001b[1;32m    486\u001b[0m                                        \u001b[0;34m'whose dimensions in the checkpoint are {}.'\u001b[0m\u001b[0;34m\u001b[0m\u001b[0m\n\u001b[0;32m--> 487\u001b[0;31m                                        .format(name, own_state[name].size(), param.size()))\n\u001b[0m\u001b[1;32m    488\u001b[0m             \u001b[0;32melif\u001b[0m \u001b[0mstrict\u001b[0m\u001b[0;34m:\u001b[0m\u001b[0;34m\u001b[0m\u001b[0m\n\u001b[1;32m    489\u001b[0m                 raise KeyError('unexpected key \"{}\" in state_dict'\n",
      "\u001b[0;31mRuntimeError\u001b[0m: While copying the parameter named conv_net.fc1.weight, whose dimensions in the model are torch.Size([128, 784]) and whose dimensions in the checkpoint are torch.Size([100, 784])."
     ]
    }
   ],
   "source": [
    "import random\n",
    "\n",
    "from   PIL import Image\n",
    "\n",
    "from   sklearn import manifold, decomposition\n",
    "\n",
    "import numpy as np\n",
    "\n",
    "from   scipy.spatial.distance import cdist\n",
    "\n",
    "import matplotlib\n",
    "import matplotlib.pyplot as plt\n",
    "from   matplotlib.offsetbox import OffsetImage, AnnotationBbox\n",
    "\n",
    "import torch\n",
    "from   torch.autograd import Variable\n",
    "from   torchvision.utils import save_image\n",
    "\n",
    "from   models import load_trained_model\n",
    "from   data.mnist.config import MnistConfig\n",
    "from   data import MnistDataset\n",
    "\n",
    "config  = MnistConfig()\n",
    "dataset = MnistDataset(config)\n",
    "dir_    = '/Users/gwg/local/dmcm/experiments/20180326_mnist/'\\\n",
    "          'mnist_l1_coef-5000.0_lr-0.0001'\n",
    "fname   = '%s/model.pt' % dir_\n",
    "model   = load_trained_model(config, fname, cpu=True)\n",
    "\n",
    "model.eval()\n",
    "\n",
    "Z = torch.load('%s/K2.pt' % dir_)"
   ]
  },
  {
   "cell_type": "code",
   "execution_count": null,
   "metadata": {},
   "outputs": [],
   "source": [
    "def image_scatter(points, images, metadata, ax):\n",
    "    images = images.numpy()\n",
    "    metadata = metadata.numpy()\n",
    "    for (x, y), image, md in zip(points, images, metadata):\n",
    "        image = np.asarray(image).squeeze()\n",
    "        im = OffsetImage(image, zoom=1)\n",
    "        ab = AnnotationBbox(im, (x, y), frameon=True, pad=0.4)\n",
    "        ax.add_artist(ab)"
   ]
  },
  {
   "cell_type": "code",
   "execution_count": null,
   "metadata": {},
   "outputs": [],
   "source": [
    "fig, ax = plt.subplots(1, sharex=True, dpi=72)\n",
    "fig.set_size_inches(20, 20)  # Width, height\n",
    "\n",
    "N = 5000\n",
    "Z = Z[:N, :]\n",
    "\n",
    "# compressor = manifold.TSNE(n_components=2, init='pca', random_state=0)\n",
    "compressor = decomposition.PCA(n_components=2)\n",
    "points = compressor.fit_transform(Z)\n",
    "print('%s completed' % compressor.__class__.__name__)\n",
    "\n",
    "Xp = points[:, 0]\n",
    "Yp = points[:, 1]\n",
    "\n",
    "xmin = Xp.min()\n",
    "xmax = Xp.max()\n",
    "ymin = Yp.min()\n",
    "ymax = Yp.max()\n",
    "ax.set_xlim([xmin, xmax])\n",
    "ax.set_ylim([ymin, ymax])\n",
    "\n",
    "# ax.scatter(Xp, Yp)\n",
    "image_scatter(points, dataset.images, dataset.metadata, ax)"
   ]
  },
  {
   "cell_type": "code",
   "execution_count": null,
   "metadata": {},
   "outputs": [],
   "source": []
  }
 ],
 "metadata": {
  "kernelspec": {
   "display_name": "Python 3",
   "language": "python",
   "name": "python3"
  },
  "language_info": {
   "codemirror_mode": {
    "name": "ipython",
    "version": 3
   },
   "file_extension": ".py",
   "mimetype": "text/x-python",
   "name": "python",
   "nbconvert_exporter": "python",
   "pygments_lexer": "ipython3",
   "version": "3.6.3"
  }
 },
 "nbformat": 4,
 "nbformat_minor": 2
}
