{
 "cells": [
  {
   "cell_type": "code",
   "execution_count": 2,
   "metadata": {},
   "outputs": [
    {
     "name": "stdout",
     "output_type": "stream",
     "text": [
      "/Users/gwg/local/dmcm\n"
     ]
    }
   ],
   "source": [
    "%cd /Users/gwg/local/dmcm\n",
    "%matplotlib inline"
   ]
  },
  {
   "cell_type": "code",
   "execution_count": 3,
   "metadata": {},
   "outputs": [],
   "source": [
    "import torch\n",
    "import random\n",
    "import matplotlib.pyplot as plt\n",
    "from   matplotlib.offsetbox import OffsetImage, AnnotationBbox\n",
    "from   matplotlib.patches import Ellipse\n",
    "import seaborn\n",
    "\n",
    "from   sklearn.decomposition import PCA\n",
    "from   sklearn.manifold import TSNE\n",
    "\n",
    "from   data import GTExConfig, GTExDataset\n",
    "\n",
    "COLORS = [\n",
    "    '#a6cee3', '#b15928', '#b2df8a', '#33a02c', '#fb9a99', '#e31a1c',\n",
    "    '#fdbf6f', '#ff7f00', '#cab2d6', '#6a3d9a', '#99995b', '#1f78b4'\n",
    "]"
   ]
  },
  {
   "cell_type": "code",
   "execution_count": 4,
   "metadata": {},
   "outputs": [
    {
     "name": "stdout",
     "output_type": "stream",
     "text": [
      "torch.Size([2221, 300])\n"
     ]
    }
   ],
   "source": [
    "cfg = GTExConfig()\n",
    "cfg.PCCA_Z_DIM = 300\n",
    "dataset = GTExDataset(cfg)\n",
    "\n",
    "Z = torch.load('best_embeddings.pt', map_location='cpu')\n",
    "print(Z.shape)\n",
    "N = 2221"
   ]
  },
  {
   "cell_type": "code",
   "execution_count": null,
   "metadata": {},
   "outputs": [],
   "source": [
    "def imscatter(points, images, colors, ax, zoom=1, frameon=True):\n",
    "    for (x, y), image in zip(points, images):\n",
    "        try:\n",
    "            image = np.asarray(Image.fromarray(image).convert('RGB'))\n",
    "        except:\n",
    "            pass\n",
    "        im = OffsetImage(image.T, zoom=0.05)\n",
    "        ab = AnnotationBbox(im, (x, y), xycoords='data', frameon=frameon)\n",
    "        ax.add_artist(ab)\n",
    "\n",
    "# ------------------------------------------------------------------------------\n",
    "\n",
    "def plot(points, colors, images=False):\n",
    "    fig, ax = plt.subplots(1)\n",
    "    fig.set_size_inches(20, 20)\n",
    "\n",
    "    Xp = points[:, 0]\n",
    "    Yp = points[:, 1]\n",
    "    \n",
    "    ax.set_xlim([Xp.min(), Xp.max()])\n",
    "    ax.set_ylim([Yp.min(), Yp.max()])\n",
    "    \n",
    "    ax.set_yticklabels([])\n",
    "    ax.set_xticklabels([])\n",
    "    \n",
    "    if images:\n",
    "        images = dataset.images.detach().numpy()\n",
    "        imscatter(points, images, colors, ax)\n",
    "    else:\n",
    "        for xp, yp, c in zip(Xp, Yp, colors):\n",
    "            ax.scatter(xp, yp, c=c, s=10)\n",
    "            \n",
    "# ------------------------------------------------------------------------------\n",
    "\n",
    "def plot_sbs(points, colors):\n",
    "    fig, axes = plt.subplots(2)\n",
    "    fig.set_size_inches(10, 20)\n",
    "    \n",
    "    Xp = points[:, 0]\n",
    "    Yp = points[:, 1]\n",
    "    \n",
    "    ax1 = axes[0]\n",
    "    ax1.set_xlim([Xp.min(), Xp.max()])\n",
    "    ax1.set_ylim([Yp.min(), Yp.max()])\n",
    "    \n",
    "    clrs = seaborn.color_palette('hls', n_colors=len(dataset.classes))\n",
    "    LINE_STYLES = ['o', 'v', 's', '*']\n",
    "    NUM_STYLES = len(LINE_STYLES)\n",
    "\n",
    "    for i in range(len(dataset.classes)):\n",
    "        indices = dataset.labels[:N] == i\n",
    "        x = Xp[indices]\n",
    "        y = Yp[indices]\n",
    "        label = dataset.labelEncoder.inverse_transform([i])[0]\n",
    "        marker = LINE_STYLES[i % NUM_STYLES]\n",
    "        ax1.scatter(x, y, s=1, c=clrs[i], label=label, marker=marker, zorder=10)\n",
    "\n",
    "#     ax2 = axes[1]\n",
    "#     ax2.set_xlim([Xp.min(), Xp.max()])\n",
    "#     ax2.set_ylim([Yp.min(), Yp.max()])\n",
    "#     images = dataset.images.detach().numpy()\n",
    "#     imscatter(points, images, colors, ax2)"
   ]
  },
  {
   "cell_type": "code",
   "execution_count": null,
   "metadata": {},
   "outputs": [],
   "source": [
    "L = dataset.labels[:N]\n",
    "Z = Z[:N, :]\n",
    "\n",
    "k = 100\n",
    "Zc = Z[:, :k]\n",
    "Za = Z[:, k:2*k]\n",
    "Zb = Z[:, 2*k:]\n",
    "\n",
    "pca = PCA(n_components=50)\n",
    "tsne = TSNE(n_components=2)\n",
    "Z_ = tsne.fit_transform(pca.fit_transform(Za))\n",
    "# Z_ = pca.fit_transform(Zb)"
   ]
  },
  {
   "cell_type": "code",
   "execution_count": null,
   "metadata": {},
   "outputs": [],
   "source": [
    "plot_sbs(Z_, L)"
   ]
  },
  {
   "cell_type": "code",
   "execution_count": null,
   "metadata": {},
   "outputs": [],
   "source": []
  },
  {
   "cell_type": "code",
   "execution_count": null,
   "metadata": {},
   "outputs": [],
   "source": []
  }
 ],
 "metadata": {
  "kernelspec": {
   "display_name": "Python 3",
   "language": "python",
   "name": "python3"
  },
  "language_info": {
   "codemirror_mode": {
    "name": "ipython",
    "version": 3
   },
   "file_extension": ".py",
   "mimetype": "text/x-python",
   "name": "python",
   "nbconvert_exporter": "python",
   "pygments_lexer": "ipython3",
   "version": "3.6.3"
  }
 },
 "nbformat": 4,
 "nbformat_minor": 2
}
