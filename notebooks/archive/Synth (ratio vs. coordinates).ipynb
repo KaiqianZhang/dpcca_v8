{
 "cells": [
  {
   "cell_type": "code",
   "execution_count": 1,
   "metadata": {},
   "outputs": [
    {
     "name": "stdout",
     "output_type": "stream",
     "text": [
      "/Users/gwg/local/dmcm\n"
     ]
    }
   ],
   "source": [
    "%cd /Users/gwg/local/dmcm\n",
    "%matplotlib inline"
   ]
  },
  {
   "cell_type": "code",
   "execution_count": 20,
   "metadata": {},
   "outputs": [],
   "source": [
    "import random\n",
    "\n",
    "from   sklearn import manifold, decomposition\n",
    "from   sklearn import manifold, decomposition\n",
    "\n",
    "from   scipy.spatial.distance import cdist\n",
    "\n",
    "import matplotlib\n",
    "import matplotlib.pyplot as plt\n",
    "from   matplotlib.offsetbox import OffsetImage, AnnotationBbox\n",
    "\n",
    "import torch\n",
    "from   torch.autograd import Variable\n",
    "from   torchvision.utils import save_image\n",
    "\n",
    "from   models import load_trained_model\n",
    "from   data import SynthConfig, SynthAbsConfig, SynthDataset, SynthAbsDataset\n",
    "import embed"
   ]
  },
  {
   "cell_type": "code",
   "execution_count": 32,
   "metadata": {},
   "outputs": [],
   "source": [
    "def image_scatter(points, images, coords, ax):\n",
    "    images = images.numpy()\n",
    "    coords = coords.numpy()\n",
    "    for (x, y), image, coord in zip(points, images, coords):        \n",
    "        im = OffsetImage(image.T, zoom=0.5)\n",
    "        ab = AnnotationBbox(im, (x, y), frameon=True, pad=0.4)\n",
    "        ax.add_artist(ab)\n",
    "        \n",
    "# ------------------------------------------------------------------------------\n",
    "\n",
    "def plot(Z, images, extra, ax, title):\n",
    "    ax.set_title(title)\n",
    "    \n",
    "    N = 5000\n",
    "    Z = Z[:N, :]\n",
    "\n",
    "    # compressor = manifold.TSNE(n_components=2, init='pca', random_state=0)\n",
    "    compressor = decomposition.PCA(n_components=2)\n",
    "    points = compressor.fit_transform(Z)\n",
    "    print('%s completed' % compressor.__class__.__name__)\n",
    "\n",
    "    Xp = points[:, 0]\n",
    "    Yp = points[:, 1]\n",
    "\n",
    "    xmin = Xp.min()\n",
    "    xmax = Xp.max()\n",
    "    ymin = Yp.min()\n",
    "    ymax = Yp.max()\n",
    "    ax.set_xlim([xmin, xmax])\n",
    "    ax.set_ylim([ymin, ymax])\n",
    "\n",
    "    # ax.scatter(Xp, Yp, c=colors)\n",
    "    image_scatter(points, images, extra, ax)"
   ]
  },
  {
   "cell_type": "code",
   "execution_count": null,
   "metadata": {},
   "outputs": [
    {
     "name": "stdout",
     "output_type": "stream",
     "text": [
      "PCA completed\n",
      "PCA completed\n"
     ]
    }
   ],
   "source": [
    "fig, axes = plt.subplots(2, dpi=72)\n",
    "fig.set_size_inches(20, 40)  # Width, height\n",
    "\n",
    "K = 'K2'\n",
    "\n",
    "config  = SynthConfig()\n",
    "dataset = SynthDataset(config)\n",
    "dir_    = '/Users/gwg/local/dmcm/experiments/20180307_normalizing_z/'\\\n",
    "          'synth_l1_coef-0.5_lr-0.0001'\n",
    "Z       = torch.load('%s/%s.pt' % (dir_, K))\n",
    "plot(Z, dataset.images, dataset.colors, axes[0], 'Relative ratios')\n",
    "\n",
    "config  = SynthAbsConfig()\n",
    "dataset = SynthAbsDataset(config)\n",
    "dir_    = '/Users/gwg/local/dmcm/experiments/20180319_synthabs/'\\\n",
    "          'synthabs_l1_coef-1000.0_lr-0.0001'\n",
    "Z       = torch.load('%s/%s.pt' % (dir_, K))\n",
    "plot(Z, dataset.images, dataset.coords, axes[1], 'Absolute coordinates')"
   ]
  },
  {
   "cell_type": "code",
   "execution_count": null,
   "metadata": {},
   "outputs": [],
   "source": []
  }
 ],
 "metadata": {
  "kernelspec": {
   "display_name": "Python 3",
   "language": "python",
   "name": "python3"
  },
  "language_info": {
   "codemirror_mode": {
    "name": "ipython",
    "version": 3
   },
   "file_extension": ".py",
   "mimetype": "text/x-python",
   "name": "python",
   "nbconvert_exporter": "python",
   "pygments_lexer": "ipython3",
   "version": "3.6.3"
  }
 },
 "nbformat": 4,
 "nbformat_minor": 2
}
