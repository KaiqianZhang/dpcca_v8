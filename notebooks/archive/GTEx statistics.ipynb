{
 "cells": [
  {
   "cell_type": "code",
   "execution_count": 1,
   "metadata": {},
   "outputs": [
    {
     "name": "stdout",
     "output_type": "stream",
     "text": [
      "/Users/gwg/local/dmcm\n"
     ]
    }
   ],
   "source": [
    "%cd /Users/gwg/local/dmcm\n",
    "%matplotlib inline"
   ]
  },
  {
   "cell_type": "code",
   "execution_count": 41,
   "metadata": {},
   "outputs": [],
   "source": [
    "import numpy as np\n",
    "import matplotlib.pyplot as plt\n",
    "import seaborn\n",
    "import torch\n",
    "from   data import GTExConfig, GTExDataset\n",
    "import torchvision"
   ]
  },
  {
   "cell_type": "code",
   "execution_count": 42,
   "metadata": {},
   "outputs": [],
   "source": [
    "cfg = GTExConfig()\n",
    "dataset = GTExDataset(cfg)"
   ]
  },
  {
   "cell_type": "code",
   "execution_count": 61,
   "metadata": {},
   "outputs": [
    {
     "name": "stdout",
     "output_type": "stream",
     "text": [
      "Fallopian Tube: 4\n",
      "Bladder: 4\n",
      "Adipose Tissue: 5\n",
      "Breast: 5\n",
      "Cervix Uteri: 7\n",
      "Nerve: 9\n",
      "Salivary Gland: 10\n",
      "Kidney: 12\n",
      "Vagina: 17\n",
      "Skin: 28\n",
      "Testis: 44\n",
      "Blood Vessel: 47\n",
      "Pituitary: 51\n",
      "Prostate: 53\n",
      "Small Intestine: 59\n",
      "Thyroid: 65\n",
      "Uterus: 69\n",
      "Lung: 76\n",
      "Colon: 81\n",
      "Ovary: 88\n",
      "Spleen: 103\n",
      "Stomach: 106\n",
      "Liver: 115\n",
      "Adrenal Gland: 134\n",
      "Esophagus: 134\n",
      "Pancreas: 166\n",
      "Brain: 172\n",
      "Heart: 188\n",
      "Muscle: 369\n"
     ]
    }
   ],
   "source": [
    "counts = []\n",
    "tissues = []\n",
    "\n",
    "for class_ in dataset.classes:\n",
    "    count = 0\n",
    "    for tissue in dataset.tissues:\n",
    "        if tissue == class_:\n",
    "            count += 1\n",
    "    counts.append(count)\n",
    "    tissues.append(class_)\n",
    "\n",
    "counts  = np.array(counts)\n",
    "tissues = np.array(tissues)\n",
    "\n",
    "inds    = counts.argsort()  # Argsort in reverse.\n",
    "\n",
    "counts  = counts[inds]\n",
    "classes = classes[inds]\n",
    "tissues = tissues[inds]\n",
    "\n",
    "for t, c in zip(tissues, counts):\n",
    "    print('%s: %s' % (t, c))\n",
    "\n",
    "tissues = np.flip(tissues, axis=0)"
   ]
  },
  {
   "cell_type": "code",
   "execution_count": 65,
   "metadata": {},
   "outputs": [],
   "source": [
    "i = 0\n",
    "tracker = {}\n",
    "for t in tissues[:6]:\n",
    "    label_ = dataset.labelEncoder.transform([t])[0]\n",
    "    for img, label in zip(dataset.images, dataset.labels):\n",
    "        if label_ != label:\n",
    "            continue\n",
    "            \n",
    "        if label not in tracker:\n",
    "            tracker[label] = 0\n",
    "        else:\n",
    "            tracker[label] += 1\n",
    "        if tracker[label] >= 10:\n",
    "            continue\n",
    "\n",
    "        torchvision.utils.save_image(img, '/Users/gwg/Desktop/top/%s_%s.png' % (t, i))\n",
    "        i += 1"
   ]
  },
  {
   "cell_type": "code",
   "execution_count": null,
   "metadata": {},
   "outputs": [],
   "source": [
    "# fig, ax = plt.subplots()\n",
    "# fig.set_size_inches(20, 10)\n",
    "\n",
    "# ax.barh(range(len(classes)), counts, height=0.8, align='center')\n",
    "\n",
    "# plt.tick_params(axis='y', which='major', labelsize=20)\n",
    "# plt.yticks(range(len(classes)), classes)\n",
    "# plt.show()"
   ]
  }
 ],
 "metadata": {
  "kernelspec": {
   "display_name": "Python 3",
   "language": "python",
   "name": "python3"
  },
  "language_info": {
   "codemirror_mode": {
    "name": "ipython",
    "version": 3
   },
   "file_extension": ".py",
   "mimetype": "text/x-python",
   "name": "python",
   "nbconvert_exporter": "python",
   "pygments_lexer": "ipython3",
   "version": "3.6.3"
  }
 },
 "nbformat": 4,
 "nbformat_minor": 2
}
