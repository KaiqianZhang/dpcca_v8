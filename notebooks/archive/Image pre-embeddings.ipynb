{
 "cells": [
  {
   "cell_type": "code",
   "execution_count": 12,
   "metadata": {},
   "outputs": [
    {
     "name": "stdout",
     "output_type": "stream",
     "text": [
      "/Users/gwg/local/dmcm\n"
     ]
    }
   ],
   "source": [
    "%cd /Users/gwg/local/dmcm\n",
    "%matplotlib inline\n",
    "\n",
    "import csv\n",
    "import matplotlib.pyplot as plt\n",
    "import torch\n",
    "\n",
    "from   models import load_trained_cae_model\n",
    "from   data import GTExConfig\n",
    "import plotutils"
   ]
  },
  {
   "cell_type": "code",
   "execution_count": 30,
   "metadata": {},
   "outputs": [
    {
     "data": {
      "text/plain": [
       "[<matplotlib.lines.Line2D at 0x1a27136668>]"
      ]
     },
     "execution_count": 30,
     "metadata": {},
     "output_type": "execute_result"
    },
    {
     "data": {
      "image/png": "[encoded data removed]",
      "text/plain": [
       "<matplotlib.figure.Figure at 0x1a26e162e8>"
      ]
     },
     "metadata": {},
     "output_type": "display_data"
    }
   ],
   "source": [
    "cfg = GTExConfig()\n",
    "# fname = 'data/gtex/embeddings/model-AlexNetAutoencoder_epochs-100/model.pt'\n",
    "# model = load_trained_cae_model(cfg, fname)\n",
    "\n",
    "xs = []\n",
    "ys = []\n",
    "with open('data/gtex/embeddings/model-AlexNetAutoencoder_epochs-200/out.txt', 'r') as out:\n",
    "    for i, l in enumerate(out):\n",
    "        if i < 2:\n",
    "            continue\n",
    "        try:\n",
    "            parts = l.strip().split()\n",
    "            x = parts[0]\n",
    "            y = parts[1]\n",
    "            xs.append(int(x))\n",
    "            ys.append(float(y))\n",
    "        except:\n",
    "            pass\n",
    "\n",
    "plt.plot(xs, ys)\n",
    "# print(model)"
   ]
  },
  {
   "cell_type": "code",
   "execution_count": null,
   "metadata": {},
   "outputs": [],
   "source": []
  }
 ],
 "metadata": {
  "kernelspec": {
   "display_name": "Python 3",
   "language": "python",
   "name": "python3"
  },
  "language_info": {
   "codemirror_mode": {
    "name": "ipython",
    "version": 3
   },
   "file_extension": ".py",
   "mimetype": "text/x-python",
   "name": "python",
   "nbconvert_exporter": "python",
   "pygments_lexer": "ipython3",
   "version": "3.6.3"
  }
 },
 "nbformat": 4,
 "nbformat_minor": 2
}
