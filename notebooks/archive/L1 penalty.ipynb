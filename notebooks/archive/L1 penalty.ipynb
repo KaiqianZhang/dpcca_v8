{
 "cells": [
  {
   "cell_type": "code",
   "execution_count": 3,
   "metadata": {},
   "outputs": [
    {
     "name": "stdout",
     "output_type": "stream",
     "text": [
      "/Users/gwg/local/dmcm\n"
     ]
    }
   ],
   "source": [
    "%cd /Users/gwg/local/dmcm\n",
    "%matplotlib inline"
   ]
  },
  {
   "cell_type": "code",
   "execution_count": 4,
   "metadata": {},
   "outputs": [],
   "source": [
    "import random\n",
    "\n",
    "from   sklearn import manifold, decomposition\n",
    "from   sklearn import manifold, decomposition\n",
    "\n",
    "import numpy as np\n",
    "\n",
    "from   scipy.spatial.distance import cdist\n",
    "from   scipy.sparse import coo_matrix\n",
    "\n",
    "import matplotlib\n",
    "import matplotlib.pyplot as plt\n",
    "from   matplotlib.offsetbox import OffsetImage, AnnotationBbox\n",
    "\n",
    "import torch\n",
    "from   torch import nn\n",
    "from   torch.autograd import Variable\n",
    "from   torchvision.utils import save_image\n",
    "\n",
    "from   models import load_trained_model\n",
    "from   data.synth.config import SynthConfig\n",
    "from   data import SynthDataset\n",
    "import plotutils"
   ]
  },
  {
   "cell_type": "code",
   "execution_count": 21,
   "metadata": {},
   "outputs": [],
   "source": [
    "def analyze_model(subdir):\n",
    "    fname = subdir + '/model.pt'\n",
    "    config  = SynthConfig()\n",
    "    model = load_trained_model(config, fname, cpu=True)\n",
    "\n",
    "    l1_loss   = nn.L1Loss(size_average=True)\n",
    "    reg_loss  = 0\n",
    "    n_params  = 0\n",
    "    n_zeros   = 0\n",
    "\n",
    "    for param in model.gene_matrix.parameters():\n",
    "        n_params += np.prod(param.size())\n",
    "        n_zeros  += np.isclose(param.data.numpy(), 0).sum()\n",
    "        target    = Variable(torch.Tensor(param.size()).fill_(0))\n",
    "        reg_loss += l1_loss(param, target)\n",
    "\n",
    "    params = [p for p in model.gene_matrix.parameters()][0]\n",
    "    print('n_zeros: %s' % n_zeros)\n",
    "    sparsity = n_zeros / n_params\n",
    "\n",
    "    return params, sparsity, reg_loss.data[0]\n",
    "\n",
    "# ------------------------------------------------------------------------------\n",
    "\n",
    "def get_dir(base, l1_coef):\n",
    "    if l1_coef == 0:\n",
    "        return base + '/synth_lr-0.0001'\n",
    "    else:\n",
    "        return base + '/synth_l1_coef-%s_lr-0.0001' % l1_coef"
   ]
  },
  {
   "cell_type": "code",
   "execution_count": 22,
   "metadata": {},
   "outputs": [
    {
     "name": "stdout",
     "output_type": "stream",
     "text": [
      "================================================================================\n",
      "1000.0\n",
      "n_zeros: 0\n",
      "0.000816792\n",
      "================================================================================\n",
      "2500.0\n",
      "n_zeros: 0\n",
      "0.000673503\n",
      "================================================================================\n",
      "5000.0\n",
      "n_zeros: 0\n",
      "0.00065486\n",
      "================================================================================\n",
      "7500.0\n",
      "n_zeros: 0\n",
      "0.00055211\n",
      "================================================================================\n",
      "10000.0\n",
      "n_zeros: 0\n",
      "0.000621874\n",
      "Done analysis.\n"
     ]
    }
   ],
   "source": [
    "BASE = '/Users/gwg/local/dmcm/experiments/20180312_l1_penalty'\n",
    "l1_coefs = [1000.0, 2500.0, 5000.0, 7500.0, 10000.0]\n",
    "\n",
    "sparsities = []\n",
    "matrices = []\n",
    "\n",
    "for l1_coef in l1_coefs:\n",
    "    print('=' * 80)\n",
    "    print(l1_coef)\n",
    "    \n",
    "    subdir = get_dir(BASE, l1_coef)\n",
    "    \n",
    "    param, sparsity, reg_loss = analyze_model(subdir)\n",
    "    print(param.norm(1).data.numpy()[0])\n",
    "    sparsities.append(sparsity) \n",
    "    param = param.data.numpy()\n",
    "    sparse_matrix = coo_matrix(np.isclose(param, 0))\n",
    "    matrices.append(sparse_matrix)\n",
    "    \n",
    "print('Done analysis.')"
   ]
  },
  {
   "cell_type": "code",
   "execution_count": 15,
   "metadata": {},
   "outputs": [
    {
     "data": {
      "image/png": "[encoded data removed]",
      "text/plain": [
       "<matplotlib.figure.Figure at 0x1c115b6c50>"
      ]
     },
     "metadata": {},
     "output_type": "display_data"
    }
   ],
   "source": [
    "fig, axes = plt.subplots(nrows=len(matrices), ncols=1)\n",
    "\n",
    "# ax = axes\n",
    "# i = 0\n",
    "# m = matrices[i]\n",
    "\n",
    "for i, (m, ax) in enumerate(zip(matrices, axes)):\n",
    "\n",
    "    ax.set_title('L1 coef = %s    sparsity = %s' % (\n",
    "        l1_coefs[i], round(sparsities[i], 6)))\n",
    "\n",
    "    # Background color is black.\n",
    "    ax.set_facecolor('midnightblue')\n",
    "    # The data point is white if is it zero.\n",
    "    ax.plot(m.col, m.row, 's', color='white', ms=1)\n",
    "    ax.set_xlim(0, m.shape[1])\n",
    "    ax.set_ylim(0, m.shape[0])\n",
    "\n",
    "    ax.invert_yaxis()\n",
    "    ax.set_xticks([])\n",
    "    ax.set_yticks([])\n",
    "\n",
    "# fig.tight_layout()\n",
    "fig.set_size_inches(10, 15)\n",
    "plt.show()"
   ]
  },
  {
   "cell_type": "code",
   "execution_count": 16,
   "metadata": {},
   "outputs": [],
   "source": [
    "# fig, axes = plt.subplots(2, sharex=True)\n",
    "# fig.set_size_inches(10, 8)\n",
    "\n",
    "# ax0 = axes[0]\n",
    "# ax1 = axes[1]\n",
    "\n",
    "# ax0.set_xlim([0, 1])\n",
    "\n",
    "# ax0.set_ylabel('Sparsity')\n",
    "# ax0.scatter(l1_coefs, sparsities)\n",
    "\n",
    "# ax1.set_xlabel('L1 coef')"
   ]
  },
  {
   "cell_type": "code",
   "execution_count": null,
   "metadata": {},
   "outputs": [],
   "source": []
  }
 ],
 "metadata": {
  "kernelspec": {
   "display_name": "Python 3",
   "language": "python",
   "name": "python3"
  },
  "language_info": {
   "codemirror_mode": {
    "name": "ipython",
    "version": 3
   },
   "file_extension": ".py",
   "mimetype": "text/x-python",
   "name": "python",
   "nbconvert_exporter": "python",
   "pygments_lexer": "ipython3",
   "version": "3.6.3"
  }
 },
 "nbformat": 4,
 "nbformat_minor": 2
}
