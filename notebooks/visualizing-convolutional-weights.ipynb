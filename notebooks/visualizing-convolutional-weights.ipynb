{
 "cells": [
  {
   "cell_type": "code",
   "execution_count": 1,
   "metadata": {},
   "outputs": [
    {
     "name": "stdout",
     "output_type": "stream",
     "text": [
      "/Users/gwg/dmcm\n"
     ]
    }
   ],
   "source": [
    "%cd /Users/gwg/dmcm\n",
    "%matplotlib inline"
   ]
  },
  {
   "cell_type": "code",
   "execution_count": 2,
   "metadata": {},
   "outputs": [],
   "source": [
    "import numpy as np\n",
    "import torch\n",
    "import matplotlib.pyplot as plt\n",
    "\n",
    "from   models import LeNet5AE\n",
    "from   data import MnistConfig"
   ]
  },
  {
   "cell_type": "code",
   "execution_count": 3,
   "metadata": {},
   "outputs": [
    {
     "name": "stdout",
     "output_type": "stream",
     "text": [
      "LeNet5AE(\n",
      "  (conv1): Conv2d(1, 6, kernel_size=(5, 5), stride=(1, 1))\n",
      "  (conv2): Conv2d(6, 16, kernel_size=(5, 5), stride=(1, 1))\n",
      "  (fc1): Linear(in_features=400, out_features=120, bias=True)\n",
      "  (fc2): Linear(in_features=120, out_features=84, bias=True)\n",
      "  (fc3): Linear(in_features=84, out_features=8, bias=True)\n",
      "  (fc4): Linear(in_features=8, out_features=84, bias=True)\n",
      "  (fc5): Linear(in_features=84, out_features=784, bias=True)\n",
      ")\n"
     ]
    }
   ],
   "source": [
    "cfg = MnistConfig()\n",
    "\n",
    "directory = '/Users/gwg/dmcm/experiments/test/'\n",
    "state = torch.load(directory + '/model.pt', map_location={'cuda:0': 'cpu'})\n",
    "model = LeNet5AE(cfg)\n",
    "model.load_state_dict(state)\n",
    "print(model)"
   ]
  },
  {
   "cell_type": "code",
   "execution_count": 15,
   "metadata": {},
   "outputs": [
    {
     "data": {
      "image/png": "[encoded data removed]",
      "text/plain": [
       "<Figure size 720x720 with 6 Axes>"
      ]
     },
     "metadata": {
      "needs_background": "light"
     },
     "output_type": "display_data"
    }
   ],
   "source": [
    "layer   = model.conv1\n",
    "weights = layer.weight.data\n",
    "\n",
    "fig, axes = plt.subplots(6, 1, figsize=(10, 10))\n",
    "\n",
    "for ax, weight in zip(axes.flat, weights):\n",
    "    im = weight.numpy().T\n",
    "    im = (im - im.min()) / (im.max() - im.min())\n",
    "    im = im.squeeze(-1)\n",
    "    ax.imshow(im, interpolation='nearest', vmin=0, vmax=1)\n",
    "    ax.axis('off')"
   ]
  },
  {
   "cell_type": "code",
   "execution_count": null,
   "metadata": {},
   "outputs": [],
   "source": []
  }
 ],
 "metadata": {
  "kernelspec": {
   "display_name": "Python 3",
   "language": "python",
   "name": "python3"
  },
  "language_info": {
   "codemirror_mode": {
    "name": "ipython",
    "version": 3
   },
   "file_extension": ".py",
   "mimetype": "text/x-python",
   "name": "python",
   "nbconvert_exporter": "python",
   "pygments_lexer": "ipython3",
   "version": "3.7.1"
  }
 },
 "nbformat": 4,
 "nbformat_minor": 2
}
