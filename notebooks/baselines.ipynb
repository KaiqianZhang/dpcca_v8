{
 "cells": [
  {
   "cell_type": "code",
   "execution_count": 1,
   "metadata": {},
   "outputs": [
    {
     "name": "stdout",
     "output_type": "stream",
     "text": [
      "/Users/gwg/dmcm\n"
     ]
    }
   ],
   "source": [
    "%cd /Users/gwg/dmcm\n",
    "%matplotlib inline"
   ]
  },
  {
   "cell_type": "code",
   "execution_count": 2,
   "metadata": {},
   "outputs": [],
   "source": [
    "import matplotlib.pyplot as plt\n",
    "import numpy as np\n",
    "from   PIL import Image\n",
    "import random\n",
    "from   sklearn.externals import joblib\n",
    "from   sklearn import preprocessing\n",
    "import torch\n",
    "from   torch.nn import functional as F\n",
    "\n",
    "from   data import MnistConfig, MnistDataset\n",
    "from   models import DPCCA, LeNet5AE, MAE, PCCA"
   ]
  },
  {
   "cell_type": "code",
   "execution_count": 3,
   "metadata": {},
   "outputs": [],
   "source": [
    "cfg     = MnistConfig()\n",
    "dataset = MnistDataset(cfg)"
   ]
  },
  {
   "cell_type": "code",
   "execution_count": 4,
   "metadata": {},
   "outputs": [
    {
     "name": "stdout",
     "output_type": "stream",
     "text": [
      "torch.Size([10000, 1, 28, 28])\n",
      "torch.Size([10000, 100])\n",
      "torch.Size([10000, 884])\n"
     ]
    }
   ],
   "source": [
    "N  = 10000\n",
    "x1 = torch.Tensor(N, cfg.N_CHANNELS, cfg.IMG_SIZE, cfg.IMG_SIZE)\n",
    "x2 = torch.Tensor(N, cfg.N_GENES)\n",
    "for i, (x1i, x2i) in enumerate(dataset):\n",
    "    if i >= N:\n",
    "        break\n",
    "    x1[i] = x1i\n",
    "    x2[i] = x2i\n",
    "\n",
    "x = torch.cat([x1.view(N, 28*28), x2], dim=1)\n",
    "print(x1.shape)\n",
    "print(x2.shape)\n",
    "print(x.shape)"
   ]
  },
  {
   "cell_type": "markdown",
   "metadata": {},
   "source": [
    "# Autoencoder"
   ]
  },
  {
   "cell_type": "code",
   "execution_count": 13,
   "metadata": {},
   "outputs": [
    {
     "name": "stdout",
     "output_type": "stream",
     "text": [
      "0.0196\n",
      "0.0019\n"
     ]
    }
   ],
   "source": [
    "err1 = []\n",
    "for seed in range(0, 5):\n",
    "    path  = 'experiments/20190309_5x_ae_mnist_baseline/'\\\n",
    "            'mnist_mode-ae_seed-%s_latent_dim-2_lr-0.001_l1_coef-0.0_em_iters-1/'\\\n",
    "            'model.pt' % seed\n",
    "\n",
    "    state = torch.load(path, map_location={'cuda:0': 'cpu'})\n",
    "    model = LeNet5AE(cfg)\n",
    "    model.load_state_dict(state)\n",
    "    \n",
    "    x1r = model.forward(x1)\n",
    "    err1.append(F.mse_loss(x1r, x1).item())\n",
    "    \n",
    "print(round(np.mean(err1), 4))\n",
    "print(round(np.std(err1), 4))"
   ]
  },
  {
   "cell_type": "markdown",
   "metadata": {},
   "source": [
    "# MAE"
   ]
  },
  {
   "cell_type": "code",
   "execution_count": 14,
   "metadata": {},
   "outputs": [
    {
     "name": "stdout",
     "output_type": "stream",
     "text": [
      "0.0435\n",
      "0.0015\n",
      "2.287\n",
      "0.0117\n"
     ]
    }
   ],
   "source": [
    "err1 = []\n",
    "err2 = []\n",
    "for seed in range(0, 5):\n",
    "    path  = '/Users/gwg/dmcm/experiments/20190307_5x_mae_mnist_baseline/'\\\n",
    "            'mnist_mode-mae_seed-%s_latent_dim-2_lr-0.001_l1_coef-0.0_em_iters-1/'\\\n",
    "            'model.pt' % seed\n",
    "\n",
    "    state = torch.load(path, map_location={'cuda:0': 'cpu'})\n",
    "    model = MAE(cfg)\n",
    "    model.load_state_dict(state)\n",
    "    \n",
    "    x1r, x2r = model.forward([x1, x2])\n",
    "    err1.append(F.mse_loss(x1r, x1).item())\n",
    "    err2.append(F.mse_loss(x2r, x2).item())\n",
    "    \n",
    "print(round(np.mean(err1), 4))\n",
    "print(round(np.std(err1), 4))\n",
    "print(round(np.mean(err2), 4))\n",
    "print(round(np.std(err2), 4))"
   ]
  },
  {
   "cell_type": "markdown",
   "metadata": {},
   "source": [
    "# PCCA"
   ]
  },
  {
   "cell_type": "code",
   "execution_count": 15,
   "metadata": {},
   "outputs": [
    {
     "name": "stdout",
     "output_type": "stream",
     "text": [
      "0.1207\n",
      "0.0032\n",
      "33.749\n",
      "0.648\n"
     ]
    }
   ],
   "source": [
    "err1 = []\n",
    "err2 = []\n",
    "for seed in range(0, 5):\n",
    "    path  = 'experiments/20190308_5x_pcca_mnist_baseline/'\\\n",
    "            'mnist_mode-pcca_seed-%s_latent_dim-2_lr-0.001_l1_coef-0.0_em_iters-1/model.pt' % seed\n",
    "\n",
    "    state = torch.load(path, map_location={'cuda:0': 'cpu'})\n",
    "    model = PCCA(latent_dim=2,\n",
    "                 dims=[cfg.N_PIXELS, cfg.N_GENES],\n",
    "                 gene_low_rank=cfg.GENE_EMBED_DIM,\n",
    "                 differentiable=False)\n",
    "    model.load_state_dict(state)\n",
    "\n",
    "    z = model.estimate_z_given_y(x.t(), threshold=None)\n",
    "    Lambda, Psi_diag = model.tile_params()\n",
    "    xr = (Lambda @ z).t()\n",
    "\n",
    "    x1r = xr[:, :cfg.N_PIXELS].view(-1, 1, 28, 28)\n",
    "    x2r = xr[:, cfg.N_PIXELS:]\n",
    "\n",
    "    err1.append(F.mse_loss(x1r, x1))\n",
    "    err2.append(F.mse_loss(x2r, x2))\n",
    "    \n",
    "print(round(np.mean(err1), 4))\n",
    "print(round(np.std(err1), 4))\n",
    "print(round(np.mean(err2), 4))\n",
    "print(round(np.std(err2), 4))"
   ]
  },
  {
   "cell_type": "markdown",
   "metadata": {},
   "source": [
    "# DPCCA"
   ]
  },
  {
   "cell_type": "code",
   "execution_count": 16,
   "metadata": {},
   "outputs": [
    {
     "name": "stdout",
     "output_type": "stream",
     "text": [
      "0.0518\n",
      "0.0121\n",
      "2.3098\n",
      "0.0137\n"
     ]
    }
   ],
   "source": [
    "err1 = []\n",
    "err2 = []\n",
    "for seed in range(0, 5):\n",
    "    path  = '/Users/gwg/dmcm/experiments/20190307_5x_dpcca_mnist_baseline/'\\\n",
    "            'mnist_mode-dpcca_seed-%s_latent_dim-2_lr-0.001_l1_coef-0.0_em_iters-1/'\\\n",
    "            'model.pt' % seed\n",
    "\n",
    "    state = torch.load(path, map_location={'cuda:0': 'cpu'})\n",
    "    model = DPCCA(cfg, latent_dim=2)\n",
    "    model.load_state_dict(state)\n",
    "    \n",
    "    x1r, x2r = model.forward([x1, x2])\n",
    "    err1.append(F.mse_loss(x1r, x1).item())\n",
    "    err2.append(F.mse_loss(x2r, x2).item())\n",
    "    \n",
    "print(round(np.mean(err1), 4))\n",
    "print(round(np.std(err1), 4))\n",
    "print(round(np.mean(err2), 4))\n",
    "print(round(np.std(err2), 4))"
   ]
  },
  {
   "cell_type": "code",
   "execution_count": null,
   "metadata": {},
   "outputs": [],
   "source": []
  },
  {
   "cell_type": "code",
   "execution_count": null,
   "metadata": {},
   "outputs": [],
   "source": []
  }
 ],
 "metadata": {
  "kernelspec": {
   "display_name": "Python 3",
   "language": "python",
   "name": "python3"
  },
  "language_info": {
   "codemirror_mode": {
    "name": "ipython",
    "version": 3
   },
   "file_extension": ".py",
   "mimetype": "text/x-python",
   "name": "python",
   "nbconvert_exporter": "python",
   "pygments_lexer": "ipython3",
   "version": "3.7.1"
  }
 },
 "nbformat": 4,
 "nbformat_minor": 2
}
